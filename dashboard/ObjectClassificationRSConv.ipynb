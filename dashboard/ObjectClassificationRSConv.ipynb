{
  "nbformat": 4,
  "nbformat_minor": 0,
  "metadata": {
    "kernelspec": {
      "display_name": "Python 3",
      "language": "python",
      "name": "python3"
    },
    "language_info": {
      "codemirror_mode": {
        "name": "ipython",
        "version": 3
      },
      "file_extension": ".py",
      "mimetype": "text/x-python",
      "name": "python",
      "nbconvert_exporter": "python",
      "pygments_lexer": "ipython3",
      "version": "3.6.9"
    },
    "colab": {
      "name": "ObjectClassificationRSConv.ipynb",
      "provenance": [],
      "machine_shape": "hm",
      "include_colab_link": true
    },
    "accelerator": "GPU"
  },
  "cells": [
    {
      "cell_type": "markdown",
      "metadata": {
        "id": "view-in-github",
        "colab_type": "text"
      },
      "source": [
        "<a href=\"https://colab.research.google.com/github/nicolas-chaulet/torch-points3d/blob/modelnettuto/dashboard/ObjectClassificationRSConv.ipynb\" target=\"_parent\"><img src=\"https://colab.research.google.com/assets/colab-badge.svg\" alt=\"Open In Colab\"/></a>"
      ]
    },
    {
      "cell_type": "code",
      "metadata": {
        "id": "FFL6wvW8jvjO",
        "colab_type": "code",
        "colab": {
          "base_uri": "https://localhost:8080/",
          "height": 1000
        },
        "outputId": "e4618519-0953-4b1c-933b-d349a0d2eaa6"
      },
      "source": [
        "# Setup packages\n",
        "!pip install torch==1.3.1 pyvista torchvision==0.4.2\n",
        "!pip install --upgrade jsonschema\n",
        "!pip install git+git://github.com/nicolas-chaulet/torch-points3d.git@modelnet\n",
        "!apt-get install -qq xvfb"
      ],
      "execution_count": 0,
      "outputs": [
        {
          "output_type": "stream",
          "text": [
            "Collecting torch==1.3.1\n",
            "\u001b[?25l  Downloading https://files.pythonhosted.org/packages/88/95/90e8c4c31cfc67248bf944ba42029295b77159982f532c5689bcfe4e9108/torch-1.3.1-cp36-cp36m-manylinux1_x86_64.whl (734.6MB)\n",
            "\u001b[K     |████████████████████████████████| 734.6MB 23kB/s \n",
            "\u001b[?25hCollecting pyvista\n",
            "\u001b[?25l  Downloading https://files.pythonhosted.org/packages/07/fd/f0863f26a9a5b1a088f8e34a8d05b6c495e98ee42045dd2a8e998bed740a/pyvista-0.24.2.tar.gz (1.2MB)\n",
            "\u001b[K     |████████████████████████████████| 1.2MB 48.4MB/s \n",
            "\u001b[?25hCollecting torchvision==0.4.2\n",
            "\u001b[?25l  Downloading https://files.pythonhosted.org/packages/9b/e2/2b1f88a363ae37b2ba52cfb785ddfb3dd5f7e7ec9459e96fd8299b84ae39/torchvision-0.4.2-cp36-cp36m-manylinux1_x86_64.whl (10.2MB)\n",
            "\u001b[K     |████████████████████████████████| 10.2MB 36.0MB/s \n",
            "\u001b[?25hRequirement already satisfied: numpy in /usr/local/lib/python3.6/dist-packages (from torch==1.3.1) (1.18.4)\n",
            "Requirement already satisfied: imageio in /usr/local/lib/python3.6/dist-packages (from pyvista) (2.4.1)\n",
            "Collecting appdirs\n",
            "  Downloading https://files.pythonhosted.org/packages/3b/00/2344469e2084fb287c2e0b57b72910309874c3245463acd6cf5e3db69324/appdirs-1.4.4-py2.py3-none-any.whl\n",
            "Collecting scooby>=0.5.1\n",
            "  Downloading https://files.pythonhosted.org/packages/88/8d/0a76d82331e36c6176a0b50e53d03eaae1d67bb2ee7542a42cb54e350fba/scooby-0.5.4.tar.gz\n",
            "Collecting meshio<5.0,>=4.0.3\n",
            "\u001b[?25l  Downloading https://files.pythonhosted.org/packages/fe/e0/20d2f5f357c817329405ca99c5ef0821be547cb00f77f2a1356c2108f9a8/meshio-4.0.12-py3-none-any.whl (131kB)\n",
            "\u001b[K     |████████████████████████████████| 133kB 41.1MB/s \n",
            "\u001b[?25hCollecting vtk\n",
            "\u001b[?25l  Downloading https://files.pythonhosted.org/packages/22/f5/30e11e1ad21701e1cd185b046979107930419a74a5602c6b899dc8523fe4/vtk-8.1.2-cp36-cp36m-manylinux1_x86_64.whl (48.9MB)\n",
            "\u001b[K     |████████████████████████████████| 48.9MB 60kB/s \n",
            "\u001b[?25hRequirement already satisfied: pillow>=4.1.1 in /usr/local/lib/python3.6/dist-packages (from torchvision==0.4.2) (7.0.0)\n",
            "Requirement already satisfied: six in /usr/local/lib/python3.6/dist-packages (from torchvision==0.4.2) (1.12.0)\n",
            "Requirement already satisfied: importlib-metadata in /usr/local/lib/python3.6/dist-packages (from meshio<5.0,>=4.0.3->pyvista) (1.6.0)\n",
            "Requirement already satisfied: zipp>=0.5 in /usr/local/lib/python3.6/dist-packages (from importlib-metadata->meshio<5.0,>=4.0.3->pyvista) (3.1.0)\n",
            "Building wheels for collected packages: pyvista, scooby\n",
            "  Building wheel for pyvista (setup.py) ... \u001b[?25l\u001b[?25hdone\n",
            "  Created wheel for pyvista: filename=pyvista-0.24.2-cp36-none-any.whl size=1170778 sha256=430018d7ac740a3f864df04a473b8894b05b643b32b43b67204fd288d3a5cf34\n",
            "  Stored in directory: /root/.cache/pip/wheels/2e/a5/b2/28c5f96974778446676a0500504e9685abf3f6d1383ba7c96d\n",
            "  Building wheel for scooby (setup.py) ... \u001b[?25l\u001b[?25hdone\n",
            "  Created wheel for scooby: filename=scooby-0.5.4-cp36-none-any.whl size=13458 sha256=29b650414cd08e251f6be5d5acab2f24721c26f1b6e7721f9e647537eb26f77b\n",
            "  Stored in directory: /root/.cache/pip/wheels/77/a4/93/3b8e158b48b2d44d20792760b060c3fa91aae64e5e428bcac6\n",
            "Successfully built pyvista scooby\n",
            "Installing collected packages: torch, appdirs, scooby, meshio, vtk, pyvista, torchvision\n",
            "  Found existing installation: torch 1.5.0+cu101\n",
            "    Uninstalling torch-1.5.0+cu101:\n",
            "      Successfully uninstalled torch-1.5.0+cu101\n",
            "  Found existing installation: torchvision 0.6.0+cu101\n",
            "    Uninstalling torchvision-0.6.0+cu101:\n",
            "      Successfully uninstalled torchvision-0.6.0+cu101\n",
            "Successfully installed appdirs-1.4.4 meshio-4.0.12 pyvista-0.24.2 scooby-0.5.4 torch-1.3.1 torchvision-0.4.2 vtk-8.1.2\n",
            "Collecting jsonschema\n",
            "\u001b[?25l  Downloading https://files.pythonhosted.org/packages/c5/8f/51e89ce52a085483359217bc72cdbf6e75ee595d5b1d4b5ade40c7e018b8/jsonschema-3.2.0-py2.py3-none-any.whl (56kB)\n",
            "\u001b[K     |████████████████████████████████| 61kB 1.9MB/s \n",
            "\u001b[?25hRequirement already satisfied, skipping upgrade: setuptools in /usr/local/lib/python3.6/dist-packages (from jsonschema) (46.1.3)\n",
            "Requirement already satisfied, skipping upgrade: importlib-metadata; python_version < \"3.8\" in /usr/local/lib/python3.6/dist-packages (from jsonschema) (1.6.0)\n",
            "Requirement already satisfied, skipping upgrade: pyrsistent>=0.14.0 in /usr/local/lib/python3.6/dist-packages (from jsonschema) (0.16.0)\n",
            "Requirement already satisfied, skipping upgrade: attrs>=17.4.0 in /usr/local/lib/python3.6/dist-packages (from jsonschema) (19.3.0)\n",
            "Requirement already satisfied, skipping upgrade: six>=1.11.0 in /usr/local/lib/python3.6/dist-packages (from jsonschema) (1.12.0)\n",
            "Requirement already satisfied, skipping upgrade: zipp>=0.5 in /usr/local/lib/python3.6/dist-packages (from importlib-metadata; python_version < \"3.8\"->jsonschema) (3.1.0)\n",
            "Installing collected packages: jsonschema\n",
            "  Found existing installation: jsonschema 2.6.0\n",
            "    Uninstalling jsonschema-2.6.0:\n",
            "      Successfully uninstalled jsonschema-2.6.0\n",
            "Successfully installed jsonschema-3.2.0\n",
            "Collecting git+git://github.com/nicolas-chaulet/torch-points3d.git@modelnet\n",
            "  Cloning git://github.com/nicolas-chaulet/torch-points3d.git (to revision modelnet) to /tmp/pip-req-build-15jp27na\n",
            "  Running command git clone -q git://github.com/nicolas-chaulet/torch-points3d.git /tmp/pip-req-build-15jp27na\n",
            "  Running command git checkout -b modelnet --track origin/modelnet\n",
            "  Switched to a new branch 'modelnet'\n",
            "  Branch 'modelnet' set up to track remote branch 'modelnet' from 'origin'.\n",
            "  Installing build dependencies ... \u001b[?25l\u001b[?25hdone\n",
            "  Getting requirements to build wheel ... \u001b[?25l\u001b[?25hdone\n",
            "    Preparing wheel metadata ... \u001b[?25l\u001b[?25hdone\n",
            "Collecting pytorch_metric_learning<0.10.0,>=0.9.75\n",
            "\u001b[?25l  Downloading https://files.pythonhosted.org/packages/14/26/d99826dbc80e019fe4554ebe9af54c5a3c6d90e6d50cc70a662b3d15a100/pytorch_metric_learning-0.9.85-py3-none-any.whl (73kB)\n",
            "\u001b[K     |████████████████████████████████| 81kB 2.3MB/s \n",
            "\u001b[?25hRequirement already satisfied: numpy<2.0.0,>=1.18.2 in /usr/local/lib/python3.6/dist-packages (from torch-points3d==0.1.0) (1.18.4)\n",
            "Requirement already satisfied: torch==1.3.1 in /usr/local/lib/python3.6/dist-packages (from torch-points3d==0.1.0) (1.3.1)\n",
            "Collecting torch-points-kernels<0.7.0,>=0.6.0\n",
            "  Downloading https://files.pythonhosted.org/packages/91/fa/a640be969b8fcc978583ad98383c21d46c7c886266440249fe24fa5306bf/torch-points-kernels-0.6.0.tar.gz\n",
            "  Installing build dependencies ... \u001b[?25l\u001b[?25hdone\n",
            "  Getting requirements to build wheel ... \u001b[?25l\u001b[?25hdone\n",
            "    Preparing wheel metadata ... \u001b[?25l\u001b[?25hdone\n",
            "Requirement already satisfied: scikit-image<0.17.0,>=0.16.2 in /usr/local/lib/python3.6/dist-packages (from torch-points3d==0.1.0) (0.16.2)\n",
            "Requirement already satisfied: tqdm<5.0,>=4.40 in /usr/local/lib/python3.6/dist-packages (from torch-points3d==0.1.0) (4.41.1)\n",
            "Collecting wandb<0.9.0,>=0.8.18\n",
            "\u001b[?25l  Downloading https://files.pythonhosted.org/packages/2d/c9/ebbcefa6ef2ba14a7c62a4ee4415a5fecef8fac5e4d1b4e22af26fd9fe22/wandb-0.8.35-py2.py3-none-any.whl (1.4MB)\n",
            "\u001b[K     |████████████████████████████████| 1.4MB 4.1MB/s \n",
            "\u001b[?25hCollecting torch-cluster==1.4.5\n",
            "  Downloading https://files.pythonhosted.org/packages/c3/70/1d827d6fd1e03bb5ae84852dd0070c6574105c37e7b935284f6e990932db/torch_cluster-1.4.5.tar.gz\n",
            "Requirement already satisfied: matplotlib<4.0,>=3.1 in /usr/local/lib/python3.6/dist-packages (from torch-points3d==0.1.0) (3.2.1)\n",
            "Collecting hydra-core<0.12.0,>=0.11.2\n",
            "\u001b[?25l  Downloading https://files.pythonhosted.org/packages/28/2f/e8dbf1266062d4041cbdcd725cb91210d9811aefb9cdf5fc04cb381bf9b9/hydra_core-0.11.3-py3-none-any.whl (72kB)\n",
            "\u001b[K     |████████████████████████████████| 81kB 8.9MB/s \n",
            "\u001b[?25hCollecting numba<0.50.0,>=0.49.0\n",
            "\u001b[?25l  Downloading https://files.pythonhosted.org/packages/56/dc/0e3d3732fd62c73fbb3317fc7bba22574832ab7a8e075620557bd4311641/numba-0.49.1-cp36-cp36m-manylinux2014_x86_64.whl (3.6MB)\n",
            "\u001b[K     |████████████████████████████████| 3.6MB 21.2MB/s \n",
            "\u001b[?25hCollecting torch-sparse==0.4.3\n",
            "  Downloading https://files.pythonhosted.org/packages/08/4e/a268613fa6a92ffbc65b89e66fc8be5590801937185007f0f7bcb75ea21f/torch_sparse-0.4.3.tar.gz\n",
            "Requirement already satisfied: tensorboard<3.0,>=2.1 in /usr/local/lib/python3.6/dist-packages (from torch-points3d==0.1.0) (2.2.1)\n",
            "Collecting torchnet<0.0.5,>=0.0.4\n",
            "  Downloading https://files.pythonhosted.org/packages/b7/b2/d7f70a85d3f6b0365517782632f150e3bbc2fb8e998cd69e27deba599aae/torchnet-0.0.4.tar.gz\n",
            "Collecting torch-scatter==1.4.0\n",
            "  Downloading https://files.pythonhosted.org/packages/b8/c3/8bad887ffa55c86f120ef5ae252dc0e357b3bd956d9fbf45242bacc46290/torch_scatter-1.4.0.tar.gz\n",
            "Collecting torch-geometric==1.3.2\n",
            "\u001b[?25l  Downloading https://files.pythonhosted.org/packages/f3/50/0a802f0bfa68058bf025d219ec6fbe806a5b891bba6702e28be7b83679fb/torch_geometric-1.3.2.tar.gz (126kB)\n",
            "\u001b[K     |████████████████████████████████| 133kB 44.8MB/s \n",
            "\u001b[?25hRequirement already satisfied: torchvision in /usr/local/lib/python3.6/dist-packages (from pytorch_metric_learning<0.10.0,>=0.9.75->torch-points3d==0.1.0) (0.4.2)\n",
            "Requirement already satisfied: scikit-learn in /usr/local/lib/python3.6/dist-packages (from pytorch_metric_learning<0.10.0,>=0.9.75->torch-points3d==0.1.0) (0.22.2.post1)\n",
            "Requirement already satisfied: imageio>=2.3.0 in /usr/local/lib/python3.6/dist-packages (from scikit-image<0.17.0,>=0.16.2->torch-points3d==0.1.0) (2.4.1)\n",
            "Requirement already satisfied: networkx>=2.0 in /usr/local/lib/python3.6/dist-packages (from scikit-image<0.17.0,>=0.16.2->torch-points3d==0.1.0) (2.4)\n",
            "Requirement already satisfied: scipy>=0.19.0 in /usr/local/lib/python3.6/dist-packages (from scikit-image<0.17.0,>=0.16.2->torch-points3d==0.1.0) (1.4.1)\n",
            "Requirement already satisfied: PyWavelets>=0.4.0 in /usr/local/lib/python3.6/dist-packages (from scikit-image<0.17.0,>=0.16.2->torch-points3d==0.1.0) (1.1.1)\n",
            "Requirement already satisfied: pillow>=4.3.0 in /usr/local/lib/python3.6/dist-packages (from scikit-image<0.17.0,>=0.16.2->torch-points3d==0.1.0) (7.0.0)\n",
            "Requirement already satisfied: six>=1.10.0 in /usr/local/lib/python3.6/dist-packages (from wandb<0.9.0,>=0.8.18->torch-points3d==0.1.0) (1.12.0)\n",
            "Collecting gql==0.2.0\n",
            "  Downloading https://files.pythonhosted.org/packages/c4/6f/cf9a3056045518f06184e804bae89390eb706168349daa9dff8ac609962a/gql-0.2.0.tar.gz\n",
            "Collecting subprocess32>=3.5.3\n",
            "\u001b[?25l  Downloading https://files.pythonhosted.org/packages/32/c8/564be4d12629b912ea431f1a50eb8b3b9d00f1a0b1ceff17f266be190007/subprocess32-3.5.4.tar.gz (97kB)\n",
            "\u001b[K     |████████████████████████████████| 102kB 11.4MB/s \n",
            "\u001b[?25hRequirement already satisfied: PyYAML>=3.10 in /usr/local/lib/python3.6/dist-packages (from wandb<0.9.0,>=0.8.18->torch-points3d==0.1.0) (3.13)\n",
            "Requirement already satisfied: requests>=2.0.0 in /usr/local/lib/python3.6/dist-packages (from wandb<0.9.0,>=0.8.18->torch-points3d==0.1.0) (2.23.0)\n",
            "Requirement already satisfied: psutil>=5.0.0 in /usr/local/lib/python3.6/dist-packages (from wandb<0.9.0,>=0.8.18->torch-points3d==0.1.0) (5.4.8)\n",
            "Collecting watchdog>=0.8.3\n",
            "\u001b[?25l  Downloading https://files.pythonhosted.org/packages/73/c3/ed6d992006837e011baca89476a4bbffb0a91602432f73bd4473816c76e2/watchdog-0.10.2.tar.gz (95kB)\n",
            "\u001b[K     |████████████████████████████████| 102kB 11.1MB/s \n",
            "\u001b[?25hCollecting sentry-sdk>=0.4.0\n",
            "\u001b[?25l  Downloading https://files.pythonhosted.org/packages/20/7e/19545324e83db4522b885808cd913c3b93ecc0c88b03e037b78c6a417fa8/sentry_sdk-0.14.3-py2.py3-none-any.whl (103kB)\n",
            "\u001b[K     |████████████████████████████████| 112kB 48.0MB/s \n",
            "\u001b[?25hCollecting docker-pycreds>=0.4.0\n",
            "  Downloading https://files.pythonhosted.org/packages/f5/e8/f6bd1eee09314e7e6dee49cbe2c5e22314ccdb38db16c9fc72d2fa80d054/docker_pycreds-0.4.0-py2.py3-none-any.whl\n",
            "Collecting configparser>=3.8.1\n",
            "  Downloading https://files.pythonhosted.org/packages/4b/6b/01baa293090240cf0562cc5eccb69c6f5006282127f2b846fad011305c79/configparser-5.0.0-py3-none-any.whl\n",
            "Requirement already satisfied: nvidia-ml-py3>=7.352.0 in /usr/local/lib/python3.6/dist-packages (from wandb<0.9.0,>=0.8.18->torch-points3d==0.1.0) (7.352.0)\n",
            "Requirement already satisfied: Click>=7.0 in /usr/local/lib/python3.6/dist-packages (from wandb<0.9.0,>=0.8.18->torch-points3d==0.1.0) (7.1.2)\n",
            "Collecting GitPython>=1.0.0\n",
            "\u001b[?25l  Downloading https://files.pythonhosted.org/packages/44/33/917e6fde1cad13daa7053f39b7c8af3be287314f75f1b1ea8d3fe37a8571/GitPython-3.1.2-py3-none-any.whl (451kB)\n",
            "\u001b[K     |████████████████████████████████| 460kB 47.9MB/s \n",
            "\u001b[?25hRequirement already satisfied: python-dateutil>=2.6.1 in /usr/local/lib/python3.6/dist-packages (from wandb<0.9.0,>=0.8.18->torch-points3d==0.1.0) (2.8.1)\n",
            "Collecting shortuuid>=0.5.0\n",
            "  Downloading https://files.pythonhosted.org/packages/25/a6/2ecc1daa6a304e7f1b216f0896b26156b78e7c38e1211e9b798b4716c53d/shortuuid-1.0.1-py3-none-any.whl\n",
            "Requirement already satisfied: pyparsing!=2.0.4,!=2.1.2,!=2.1.6,>=2.0.1 in /usr/local/lib/python3.6/dist-packages (from matplotlib<4.0,>=3.1->torch-points3d==0.1.0) (2.4.7)\n",
            "Requirement already satisfied: cycler>=0.10 in /usr/local/lib/python3.6/dist-packages (from matplotlib<4.0,>=3.1->torch-points3d==0.1.0) (0.10.0)\n",
            "Requirement already satisfied: kiwisolver>=1.0.1 in /usr/local/lib/python3.6/dist-packages (from matplotlib<4.0,>=3.1->torch-points3d==0.1.0) (1.2.0)\n",
            "Collecting omegaconf<1.5,>=1.4\n",
            "  Downloading https://files.pythonhosted.org/packages/2f/53/d285f1faa36eca666f6d04ac17c5f3a9e72cedaeb530e663fdc025209780/omegaconf-1.4.1-py3-none-any.whl\n",
            "Requirement already satisfied: llvmlite<=0.33.0.dev0,>=0.31.0.dev0 in /usr/local/lib/python3.6/dist-packages (from numba<0.50.0,>=0.49.0->torch-points3d==0.1.0) (0.31.0)\n",
            "Requirement already satisfied: setuptools in /usr/local/lib/python3.6/dist-packages (from numba<0.50.0,>=0.49.0->torch-points3d==0.1.0) (46.1.3)\n",
            "Requirement already satisfied: google-auth-oauthlib<0.5,>=0.4.1 in /usr/local/lib/python3.6/dist-packages (from tensorboard<3.0,>=2.1->torch-points3d==0.1.0) (0.4.1)\n",
            "Requirement already satisfied: protobuf>=3.6.0 in /usr/local/lib/python3.6/dist-packages (from tensorboard<3.0,>=2.1->torch-points3d==0.1.0) (3.10.0)\n",
            "Requirement already satisfied: google-auth<2,>=1.6.3 in /usr/local/lib/python3.6/dist-packages (from tensorboard<3.0,>=2.1->torch-points3d==0.1.0) (1.7.2)\n",
            "Requirement already satisfied: tensorboard-plugin-wit>=1.6.0 in /usr/local/lib/python3.6/dist-packages (from tensorboard<3.0,>=2.1->torch-points3d==0.1.0) (1.6.0.post3)\n",
            "Requirement already satisfied: absl-py>=0.4 in /usr/local/lib/python3.6/dist-packages (from tensorboard<3.0,>=2.1->torch-points3d==0.1.0) (0.9.0)\n",
            "Requirement already satisfied: werkzeug>=0.11.15 in /usr/local/lib/python3.6/dist-packages (from tensorboard<3.0,>=2.1->torch-points3d==0.1.0) (1.0.1)\n",
            "Requirement already satisfied: grpcio>=1.24.3 in /usr/local/lib/python3.6/dist-packages (from tensorboard<3.0,>=2.1->torch-points3d==0.1.0) (1.28.1)\n",
            "Requirement already satisfied: markdown>=2.6.8 in /usr/local/lib/python3.6/dist-packages (from tensorboard<3.0,>=2.1->torch-points3d==0.1.0) (3.2.1)\n",
            "Requirement already satisfied: wheel>=0.26; python_version >= \"3\" in /usr/local/lib/python3.6/dist-packages (from tensorboard<3.0,>=2.1->torch-points3d==0.1.0) (0.34.2)\n",
            "Collecting visdom\n",
            "\u001b[?25l  Downloading https://files.pythonhosted.org/packages/c9/75/e078f5a2e1df7e0d3044749089fc2823e62d029cc027ed8ae5d71fafcbdc/visdom-0.1.8.9.tar.gz (676kB)\n",
            "\u001b[K     |████████████████████████████████| 686kB 48.7MB/s \n",
            "\u001b[?25hCollecting plyfile\n",
            "  Downloading https://files.pythonhosted.org/packages/93/c8/cf47848cd4d661850e4a8e7f0fc4f7298515e06d0da7255ed08e5312d4aa/plyfile-0.7.2-py3-none-any.whl\n",
            "Requirement already satisfied: pandas in /usr/local/lib/python3.6/dist-packages (from torch-geometric==1.3.2->torch-points3d==0.1.0) (1.0.3)\n",
            "Collecting rdflib\n",
            "\u001b[?25l  Downloading https://files.pythonhosted.org/packages/d0/6b/6454aa1db753c0f8bc265a5bd5c10b5721a4bb24160fb4faf758cf6be8a1/rdflib-5.0.0-py3-none-any.whl (231kB)\n",
            "\u001b[K     |████████████████████████████████| 235kB 37.4MB/s \n",
            "\u001b[?25hRequirement already satisfied: h5py in /usr/local/lib/python3.6/dist-packages (from torch-geometric==1.3.2->torch-points3d==0.1.0) (2.10.0)\n",
            "Requirement already satisfied: googledrivedownloader in /usr/local/lib/python3.6/dist-packages (from torch-geometric==1.3.2->torch-points3d==0.1.0) (0.4)\n",
            "Requirement already satisfied: joblib>=0.11 in /usr/local/lib/python3.6/dist-packages (from scikit-learn->pytorch_metric_learning<0.10.0,>=0.9.75->torch-points3d==0.1.0) (0.14.1)\n",
            "Requirement already satisfied: decorator>=4.3.0 in /usr/local/lib/python3.6/dist-packages (from networkx>=2.0->scikit-image<0.17.0,>=0.16.2->torch-points3d==0.1.0) (4.4.2)\n",
            "Collecting graphql-core<2,>=0.5.0\n",
            "\u001b[?25l  Downloading https://files.pythonhosted.org/packages/b0/89/00ad5e07524d8c523b14d70c685e0299a8b0de6d0727e368c41b89b7ed0b/graphql-core-1.1.tar.gz (70kB)\n",
            "\u001b[K     |████████████████████████████████| 71kB 8.5MB/s \n",
            "\u001b[?25hRequirement already satisfied: promise<3,>=2.0 in /usr/local/lib/python3.6/dist-packages (from gql==0.2.0->wandb<0.9.0,>=0.8.18->torch-points3d==0.1.0) (2.3)\n",
            "Requirement already satisfied: chardet<4,>=3.0.2 in /usr/local/lib/python3.6/dist-packages (from requests>=2.0.0->wandb<0.9.0,>=0.8.18->torch-points3d==0.1.0) (3.0.4)\n",
            "Requirement already satisfied: idna<3,>=2.5 in /usr/local/lib/python3.6/dist-packages (from requests>=2.0.0->wandb<0.9.0,>=0.8.18->torch-points3d==0.1.0) (2.9)\n",
            "Requirement already satisfied: certifi>=2017.4.17 in /usr/local/lib/python3.6/dist-packages (from requests>=2.0.0->wandb<0.9.0,>=0.8.18->torch-points3d==0.1.0) (2020.4.5.1)\n",
            "Requirement already satisfied: urllib3!=1.25.0,!=1.25.1,<1.26,>=1.21.1 in /usr/local/lib/python3.6/dist-packages (from requests>=2.0.0->wandb<0.9.0,>=0.8.18->torch-points3d==0.1.0) (1.24.3)\n",
            "Collecting pathtools>=0.1.1\n",
            "  Downloading https://files.pythonhosted.org/packages/e7/7f/470d6fcdf23f9f3518f6b0b76be9df16dcc8630ad409947f8be2eb0ed13a/pathtools-0.1.2.tar.gz\n",
            "Collecting gitdb<5,>=4.0.1\n",
            "\u001b[?25l  Downloading https://files.pythonhosted.org/packages/48/11/d1800bca0a3bae820b84b7d813ad1eff15a48a64caea9c823fc8c1b119e8/gitdb-4.0.5-py3-none-any.whl (63kB)\n",
            "\u001b[K     |████████████████████████████████| 71kB 9.5MB/s \n",
            "\u001b[?25hRequirement already satisfied: requests-oauthlib>=0.7.0 in /usr/local/lib/python3.6/dist-packages (from google-auth-oauthlib<0.5,>=0.4.1->tensorboard<3.0,>=2.1->torch-points3d==0.1.0) (1.3.0)\n",
            "Requirement already satisfied: cachetools<3.2,>=2.0.0 in /usr/local/lib/python3.6/dist-packages (from google-auth<2,>=1.6.3->tensorboard<3.0,>=2.1->torch-points3d==0.1.0) (3.1.1)\n",
            "Requirement already satisfied: pyasn1-modules>=0.2.1 in /usr/local/lib/python3.6/dist-packages (from google-auth<2,>=1.6.3->tensorboard<3.0,>=2.1->torch-points3d==0.1.0) (0.2.8)\n",
            "Requirement already satisfied: rsa<4.1,>=3.1.4 in /usr/local/lib/python3.6/dist-packages (from google-auth<2,>=1.6.3->tensorboard<3.0,>=2.1->torch-points3d==0.1.0) (4.0)\n",
            "Requirement already satisfied: tornado in /usr/local/lib/python3.6/dist-packages (from visdom->torchnet<0.0.5,>=0.0.4->torch-points3d==0.1.0) (4.5.3)\n",
            "Requirement already satisfied: pyzmq in /usr/local/lib/python3.6/dist-packages (from visdom->torchnet<0.0.5,>=0.0.4->torch-points3d==0.1.0) (19.0.1)\n",
            "Collecting jsonpatch\n",
            "  Downloading https://files.pythonhosted.org/packages/82/53/73ca86f2a680c705dcd1708be4887c559dfe9ed250486dd3ccd8821b8ccb/jsonpatch-1.25-py2.py3-none-any.whl\n",
            "Collecting torchfile\n",
            "  Downloading https://files.pythonhosted.org/packages/91/af/5b305f86f2d218091af657ddb53f984ecbd9518ca9fe8ef4103a007252c9/torchfile-0.1.0.tar.gz\n",
            "Collecting websocket-client\n",
            "\u001b[?25l  Downloading https://files.pythonhosted.org/packages/4c/5f/f61b420143ed1c8dc69f9eaec5ff1ac36109d52c80de49d66e0c36c3dfdf/websocket_client-0.57.0-py2.py3-none-any.whl (200kB)\n",
            "\u001b[K     |████████████████████████████████| 204kB 42.8MB/s \n",
            "\u001b[?25hRequirement already satisfied: pytz>=2017.2 in /usr/local/lib/python3.6/dist-packages (from pandas->torch-geometric==1.3.2->torch-points3d==0.1.0) (2018.9)\n",
            "Collecting isodate\n",
            "\u001b[?25l  Downloading https://files.pythonhosted.org/packages/9b/9f/b36f7774ff5ea8e428fdcfc4bb332c39ee5b9362ddd3d40d9516a55221b2/isodate-0.6.0-py2.py3-none-any.whl (45kB)\n",
            "\u001b[K     |████████████████████████████████| 51kB 6.2MB/s \n",
            "\u001b[?25hCollecting smmap<4,>=3.0.1\n",
            "  Downloading https://files.pythonhosted.org/packages/b0/9a/4d409a6234eb940e6a78dfdfc66156e7522262f5f2fecca07dc55915952d/smmap-3.0.4-py2.py3-none-any.whl\n",
            "Requirement already satisfied: oauthlib>=3.0.0 in /usr/local/lib/python3.6/dist-packages (from requests-oauthlib>=0.7.0->google-auth-oauthlib<0.5,>=0.4.1->tensorboard<3.0,>=2.1->torch-points3d==0.1.0) (3.1.0)\n",
            "Requirement already satisfied: pyasn1<0.5.0,>=0.4.6 in /usr/local/lib/python3.6/dist-packages (from pyasn1-modules>=0.2.1->google-auth<2,>=1.6.3->tensorboard<3.0,>=2.1->torch-points3d==0.1.0) (0.4.8)\n",
            "Collecting jsonpointer>=1.9\n",
            "  Downloading https://files.pythonhosted.org/packages/18/b0/a80d29577c08eea401659254dfaed87f1af45272899e1812d7e01b679bc5/jsonpointer-2.0-py2.py3-none-any.whl\n",
            "Building wheels for collected packages: torch-points3d, torch-points-kernels\n",
            "  Building wheel for torch-points3d (PEP 517) ... \u001b[?25l\u001b[?25hdone\n",
            "  Created wheel for torch-points3d: filename=torch_points3d-0.1.0-cp36-none-any.whl size=226016 sha256=6edac41867da5ec7ddea27d6e9a470b0637114b197352bcd3c35b3111c400587\n",
            "  Stored in directory: /tmp/pip-ephem-wheel-cache-rnqcax_i/wheels/5e/1c/92/151d54f187b7b1db2808d2894523290221925a75399bf9f383\n"
          ],
          "name": "stdout"
        }
      ]
    },
    {
      "cell_type": "code",
      "metadata": {
        "id": "8_eOTvwjjuK4",
        "colab_type": "code",
        "colab": {}
      },
      "source": [
        "# Needed for remote rendering \n",
        "import os\n",
        "os.system('export DISPLAY=:99.0 \\\n",
        "export PYVISTA_OFF_SCREEN=true \\\n",
        "export PYVISTA_USE_PANEL=true \\\n",
        "export PYVISTA_PLOT_THEME=document \\\n",
        "# This is needed for Panel - use with cuation!\\\n",
        "export PYVISTA_AUTO_CLOSE=false \\\n",
        "which Xvfb \\\n",
        "Xvfb :99 -screen 0 1024x768x24 > /dev/null 2>&1 & \\\n",
        "sleep 3 \\\n",
        "exec \"$@\"')"
      ],
      "execution_count": 0,
      "outputs": []
    },
    {
      "cell_type": "code",
      "metadata": {
        "id": "bKtehn7D4drk",
        "colab_type": "code",
        "colab": {}
      },
      "source": [
        "import os\n",
        "import sys\n",
        "from omegaconf import OmegaConf\n",
        "import pyvista as pv\n",
        "import torch"
      ],
      "execution_count": 0,
      "outputs": []
    },
    {
      "cell_type": "code",
      "metadata": {
        "id": "k14-WHdzDcvu",
        "colab_type": "code",
        "colab": {}
      },
      "source": [
        "DIR = \"\" # Replace with your root directory."
      ],
      "execution_count": 0,
      "outputs": []
    },
    {
      "cell_type": "markdown",
      "metadata": {
        "id": "0sS0YEUXjuLO",
        "colab_type": "text"
      },
      "source": [
        "<p align=\"center\">\n",
        "  <img width=\"40%\" src=\"https://raw.githubusercontent.com/nicolas-chaulet/torch-points3d/master/docs/logo.png\" />\n",
        "</p>\n"
      ]
    },
    {
      "cell_type": "markdown",
      "metadata": {
        "id": "F1cLXfkkjuLP",
        "colab_type": "text"
      },
      "source": [
        "# Classifiying objects with Relation-Shape CNN\n",
        "This notebook explains how Torch Points3D can be used to solve an object classification task. We will use [ModelNet](https://modelnet.cs.princeton.edu/) as our dataset and [Relation-Shape CNN](https://github.com/Yochengliu/Relation-Shape-CNN) as our model architecture. The dataset contains CAD models of objects that belong to 40 different categories and the task is to retrieve the category of the object from its point cloud representation. There is also a smaller version well suited for quick testing that contains only 10 classes. The notebook covers the following aspects of Torch Points3D:\n",
        "\n",
        "1. Create a dataset with a data augmentation pipeline\n",
        "2. Instantiate a pre configured model\n",
        "3. Setup the data loaders\n",
        "4. Run a training\n"
      ]
    },
    {
      "cell_type": "code",
      "metadata": {
        "id": "7O3JPuIQExZJ",
        "colab_type": "code",
        "colab": {}
      },
      "source": [
        "MODELNET_VERSION=\"40\""
      ],
      "execution_count": 0,
      "outputs": []
    },
    {
      "cell_type": "markdown",
      "metadata": {
        "id": "EwOtGLfijuLR",
        "colab_type": "text"
      },
      "source": [
        "## The dataset\n",
        "We will use Torch Points3D to download and create the dataset. It automatically downloads a pre sampled version of ModelNet (with 10,000 points per object) and the data will be stored under the `ROOT/data/modelnet` directory. Creating the raw dataset is as simple as:"
      ]
    },
    {
      "cell_type": "code",
      "metadata": {
        "id": "P4iIhBJAjuLT",
        "colab_type": "code",
        "colab": {
          "base_uri": "https://localhost:8080/",
          "height": 69
        },
        "outputId": "fc8250a3-55b4-43b8-aecd-75a307f387ef"
      },
      "source": [
        "from torch_points3d.datasets.classification.modelnet import SampledModelNet\n",
        "import torch_points3d.core.data_transform as T3D\n",
        "import torch_geometric.transforms as T\n",
        "\n",
        "dataroot = os.path.join(DIR, \"data/modelnet\")\n",
        "pre_transform = T.Compose([T.NormalizeScale(), T3D.GridSampling(0.02)])\n",
        "dataset = SampledModelNet(dataroot, name=MODELNET_VERSION, train=True, transform=None,\n",
        "                 pre_transform=pre_transform, pre_filter=None)\n",
        "dataset[0]"
      ],
      "execution_count": 64,
      "outputs": [
        {
          "output_type": "stream",
          "text": [
            "Processing...\n",
            "Done!\n"
          ],
          "name": "stdout"
        },
        {
          "output_type": "execute_result",
          "data": {
            "text/plain": [
              "Data(norm=[5672, 3], pos=[5672, 3], y=[1])"
            ]
          },
          "metadata": {
            "tags": []
          },
          "execution_count": 64
        }
      ]
    },
    {
      "cell_type": "markdown",
      "metadata": {
        "id": "F0cY35y1juLZ",
        "colab_type": "text"
      },
      "source": [
        "Each sample is a CAD model of an object (bathtub, toilet, bed, etc...), the `pos` attribute contains the coordinates of points sampled on each face of the mesh while `norm` contains the normal vector. You will notice that we have applied two pre transforms to our dataset:\n",
        "\n",
        "- `NormalizeScale` normalises the scale of each object\n",
        "- `GridSampling` does a voxel downsizing of each point cloud with a resolution of 0.02 (in normalized scale). This ensures that we don't have really dense areas.\n",
        "\n",
        "Let's visualise some of those examples before going any further.\n"
      ]
    },
    {
      "cell_type": "code",
      "metadata": {
        "id": "OsFH72B9juLa",
        "colab_type": "code",
        "colab": {
          "base_uri": "https://localhost:8080/",
          "height": 367
        },
        "outputId": "649691f3-f621-4f7e-89fc-4f88d0679da0"
      },
      "source": [
        "samples = [10,1000,3000]\n",
        "p = pv.Plotter(notebook=True,shape=(1, len(samples)),window_size=[1024,412])\n",
        "\n",
        "for i in range(len(samples)):\n",
        "    p.subplot(0, i)\n",
        "    sample = dataset[samples[i]].pos.numpy()\n",
        "    point_cloud = pv.PolyData(sample)\n",
        "    point_cloud['y'] = sample[:,1]\n",
        "    p.add_points(point_cloud)\n",
        "    p.camera_position = [-1,5, -10]\n",
        "p.show()"
      ],
      "execution_count": 65,
      "outputs": [
        {
          "output_type": "display_data",
          "data": {
            "image/png": "[encoded data removed]",
            "text/plain": [
              "<PIL.Image.Image image mode=RGB size=1024x412 at 0x7FD4E8F4AD30>"
            ]
          },
          "metadata": {
            "tags": []
          }
        }
      ]
    },
    {
      "cell_type": "markdown",
      "metadata": {
        "id": "FYE0OSUhjuLg",
        "colab_type": "text"
      },
      "source": [
        "## Building a model\n",
        "As mentioned in the introduction we will use Relation-Shape CNN as our backbone architecture for the model classifier. Let's build our model by using Torch Points3D API (you can ignore the error, it comes from a third party library and all works just fine). We will use the normal vector as an input feature, therefore we will set the number of input channels (`input_nc`) to 3."
      ]
    },
    {
      "cell_type": "code",
      "metadata": {
        "id": "dWvt8XsojuLi",
        "colab_type": "code",
        "colab": {}
      },
      "source": [
        "from torch_points3d.applications.rsconv import RSConv"
      ],
      "execution_count": 0,
      "outputs": []
    },
    {
      "cell_type": "code",
      "metadata": {
        "id": "ffGE6xUNjuLo",
        "colab_type": "code",
        "colab": {}
      },
      "source": [
        "class RSConvCLassifier(torch.nn.Module):\n",
        "    def __init__(self):\n",
        "        super().__init__() \n",
        "        self.encoder = RSConv(\"encoder\", input_nc=3,output_nc = int(MODELNET_VERSION), num_layers=4)\n",
        "        self.log_softmax = torch.nn.LogSoftmax(dim=-1)\n",
        "    \n",
        "    @property\n",
        "    def conv_type(self):\n",
        "        \"\"\" This is needed by the dataset to infer which batch collate should be used\"\"\"\n",
        "        return self.encoder.conv_type\n",
        "    \n",
        "    def get_output(self):\n",
        "        \"\"\" This is needed by the tracker to get access to the ouputs of the network\"\"\"\n",
        "        return self.output\n",
        "    \n",
        "    def get_labels(self):\n",
        "        \"\"\" Needed by the tracker in order to access ground truth labels\"\"\"\n",
        "        return self.labels\n",
        "    \n",
        "    def get_current_losses(self):\n",
        "        \"\"\" Entry point for the tracker to grab the loss \"\"\"\n",
        "        return {\"loss_class\": float(self.loss_class)}\n",
        "    \n",
        "    def forward(self, data):\n",
        "        # Set labels for the tracker\n",
        "        self.labels = data.y.squeeze()\n",
        "\n",
        "        # Forward through the network\n",
        "        data_out = self.encoder(data)\n",
        "        self.output = self.log_softmax(data_out.x.squeeze())\n",
        "\n",
        "        # Set loss for the backward pass\n",
        "        self.loss_class = torch.nn.functional.nll_loss(self.output, self.labels)\n",
        "    \n",
        "    def backward(self):\n",
        "         self.loss_class.backward()    \n",
        "        "
      ],
      "execution_count": 0,
      "outputs": []
    },
    {
      "cell_type": "code",
      "metadata": {
        "id": "r-C7fltXjuLt",
        "colab_type": "code",
        "colab": {
          "base_uri": "https://localhost:8080/",
          "height": 54
        },
        "outputId": "d834c92b-cfde-4fe1-d77e-d524e87c5141"
      },
      "source": [
        "model = RSConvCLassifier()"
      ],
      "execution_count": 46,
      "outputs": [
        {
          "output_type": "stream",
          "text": [
            "WARNING:torch_points3d.modules.RSConv.dense:The down_conv_nn has a different size as radii. Make sure of have SharedRSConv\n"
          ],
          "name": "stderr"
        }
      ]
    },
    {
      "cell_type": "markdown",
      "metadata": {
        "id": "S30iNr4TjuLx",
        "colab_type": "text"
      },
      "source": [
        "## Setting up the data loaders\n",
        "In this section, we will first build  a data loader using basic building blocks, and then we will see how one can use our dataset wrapper to assemble a dataset ready for training with its test and train data loader configured.\n",
        "\n",
        "Let's start with a vanillia data loader. There are two ways to assemble batches depending on the model that is used. In that case we will want dense batches where samples are concatenated along the first dimension, just like for batches of images. It is very important to ensure that each sample has got the same number of points, this can be achieved by applying a `FixedPoints` transform to the dataset. here we will use 2048 points per object."
      ]
    },
    {
      "cell_type": "code",
      "metadata": {
        "id": "UMKyO1qPjuLy",
        "colab_type": "code",
        "colab": {
          "base_uri": "https://localhost:8080/",
          "height": 34
        },
        "outputId": "e14a865d-98dc-41db-a312-c6e94a290331"
      },
      "source": [
        "from torch_points3d.datasets.batch import SimpleBatch\n",
        "NUM_WORKERS = 4\n",
        "BATCH_SIZE = 12\n",
        "\n",
        "transform = T.FixedPoints(2048)\n",
        "dataset = SampledModelNet(dataroot, name=MODELNET_VERSION, train=True, transform=transform,\n",
        "                 pre_transform=pre_transform, pre_filter=None)\n",
        "\n",
        "collate_function = lambda datalist: SimpleBatch.from_data_list(datalist)\n",
        "train_loader = torch.utils.data.DataLoader(\n",
        "    dataset, \n",
        "    batch_size=BATCH_SIZE, \n",
        "    shuffle=True, \n",
        "    num_workers=NUM_WORKERS,  \n",
        "    collate_fn=collate_function\n",
        ")\n",
        "next(iter(train_loader))"
      ],
      "execution_count": 68,
      "outputs": [
        {
          "output_type": "execute_result",
          "data": {
            "text/plain": [
              "SimpleBatch(norm=[12, 2048, 3], pos=[12, 2048, 3], y=[12, 1])"
            ]
          },
          "metadata": {
            "tags": []
          },
          "execution_count": 68
        }
      ]
    },
    {
      "cell_type": "markdown",
      "metadata": {
        "id": "FR1oib1ajuL4",
        "colab_type": "text"
      },
      "source": [
        "If we were using a model that can handle packed data we would not need the `FixedPoints` transform at all and each object could have a different number of points."
      ]
    },
    {
      "cell_type": "code",
      "metadata": {
        "id": "t-L5aUdhjuL4",
        "colab_type": "code",
        "colab": {}
      },
      "source": [
        "from torch_geometric.data import Batch\n",
        "\n",
        "dataset = SampledModelNet(dataroot, name=MODELNET_VERSION, train=True, transform=None,\n",
        "                 pre_transform=pre_transform, pre_filter=None)\n",
        "\n",
        "collate_function = lambda datalist: Batch.from_data_list(datalist)\n",
        "train_loader = torch.utils.data.DataLoader(\n",
        "    dataset, \n",
        "    batch_size=BATCH_SIZE, \n",
        "    shuffle=True, \n",
        "    num_workers=NUM_WORKERS,  \n",
        "    collate_fn=collate_function\n",
        ")\n",
        "next(iter(train_loader))"
      ],
      "execution_count": 0,
      "outputs": []
    },
    {
      "cell_type": "markdown",
      "metadata": {
        "id": "6UkV3L28juL9",
        "colab_type": "text"
      },
      "source": [
        "We also provide a higher level interface that builds the train and test data loaders for you based on which model you use. We use an OmegaConf config to instantiate it (or any object with a similar interface). The config must contain the arguments required by the dataset. We can also include the pre transforms, test transforms and train transforms. The transform pipeline will look like this:\n",
        "\n",
        "1. Sample a fixed number of points\n",
        "2. Add random noise to the positions\n",
        "3. Randomly rotate the point cloud around the z axis\n",
        "4. Add the normal vector to the features getting into the network\n",
        "\n",
        "The config will be as follow:"
      ]
    },
    {
      "cell_type": "code",
      "metadata": {
        "id": "kmcefLM9juL-",
        "colab_type": "code",
        "colab": {}
      },
      "source": [
        "yaml_config = \"\"\"\n",
        "task: classification\n",
        "class: modelnet.ModelNetDataset\n",
        "name: modelnet\n",
        "dataroot: {}\n",
        "number: {}\n",
        "pre_transforms:\n",
        "    - transform: NormalizeScale\n",
        "    - transform: GridSampling\n",
        "      lparams: [0.02]\n",
        "train_transforms:\n",
        "    - transform: FixedPoints\n",
        "      lparams: [2048]\n",
        "    - transform: RandomNoise\n",
        "    - transform: RandomRotate\n",
        "      params:\n",
        "        degrees: 180\n",
        "        axis: 2\n",
        "    - transform: AddFeatsByKeys\n",
        "      params:\n",
        "        feat_names: [norm]\n",
        "        list_add_to_x: [True]\n",
        "        delete_feats: [True]\n",
        "test_transforms:\n",
        "    - transform: FixedPoints\n",
        "      lparams: [2048]\n",
        "    - transform: AddFeatsByKeys\n",
        "      params:\n",
        "        feat_names: [norm]\n",
        "        list_add_to_x: [True]\n",
        "        delete_feats: [True]\n",
        "\"\"\".format(os.path.join(DIR, \"data\"),MODELNET_VERSION)\n",
        "\n",
        "from omegaconf import OmegaConf\n",
        "params = OmegaConf.create(yaml_config)"
      ],
      "execution_count": 0,
      "outputs": []
    },
    {
      "cell_type": "code",
      "metadata": {
        "id": "LkGJygG2juMD",
        "colab_type": "code",
        "colab": {
          "base_uri": "https://localhost:8080/",
          "height": 558
        },
        "outputId": "23ccd73b-09c5-4253-b473-a98d48c186f6"
      },
      "source": [
        "from torch_points3d.datasets.classification.modelnet import ModelNetDataset\n",
        "dataset = ModelNetDataset(params)\n",
        "dataset"
      ],
      "execution_count": 50,
      "outputs": [
        {
          "output_type": "stream",
          "text": [
            "/usr/local/lib/python3.6/dist-packages/torch_geometric/data/dataset.py:94: UserWarning: The `pre_transform` argument differs from the one used in the pre-processed version of this dataset. If you really want to make use of another pre-processing technique, make sure to delete `data/modelnet/processed/processed` first.\n",
            "  self.processed_dir))\n"
          ],
          "name": "stderr"
        },
        {
          "output_type": "execute_result",
          "data": {
            "text/plain": [
              "Dataset: ModelNetDataset \n",
              "\u001b[0;95mpre_transform \u001b[0m= Compose([\n",
              "    NormalizeScale(),\n",
              "    GridSampling(grid_size=0.02, quantize_coords=False, mode=mean),\n",
              "    FixedPoints(2048, replace=True),\n",
              "    AddFeatsByKeys(norm=True),\n",
              "])\n",
              "\u001b[0;95mtest_transform \u001b[0m= Compose([\n",
              "    FixedPoints(2048, replace=True),\n",
              "    AddFeatsByKeys(norm=True),\n",
              "])\n",
              "\u001b[0;95mtrain_transform \u001b[0m= Compose([\n",
              "    FixedPoints(2048, replace=True),\n",
              "    RandomNoise(sigma=0.01, clip=0.05),\n",
              "    RandomRotate((-180, 180), axis=2),\n",
              "    AddFeatsByKeys(norm=True),\n",
              "])\n",
              "\u001b[0;95mval_transform \u001b[0m= None\n",
              "\u001b[0;95minference_transform \u001b[0m= Compose([\n",
              "    NormalizeScale(),\n",
              "    GridSampling(grid_size=0.02, quantize_coords=False, mode=mean),\n",
              "    FixedPoints(2048, replace=True),\n",
              "    AddFeatsByKeys(norm=True),\n",
              "])\n",
              "Size of \u001b[0;95mtrain_dataset \u001b[0m= 3991\n",
              "Size of \u001b[0;95mtest_dataset \u001b[0m= 908\n",
              "Size of \u001b[0;95mval_dataset \u001b[0m= 0\n",
              "\u001b[0;95mBatch size =\u001b[0m None"
            ]
          },
          "metadata": {
            "tags": []
          },
          "execution_count": 50
        }
      ]
    },
    {
      "cell_type": "markdown",
      "metadata": {
        "id": "Z86lKgNejuMI",
        "colab_type": "text"
      },
      "source": [
        "We can see here that the train and test transforms have been set properly. The batch size is still not set since the data loaders have not been instantiaded yet, let's do that now and we will have a dataset ready for training. We can also instantiate the tracker directly from the dataset which reduces potential risks in using the wrong metrics."
      ]
    },
    {
      "cell_type": "code",
      "metadata": {
        "id": "EfVbU3VHjuMJ",
        "colab_type": "code",
        "colab": {}
      },
      "source": [
        "dataset.create_dataloaders(\n",
        "    model, \n",
        "    batch_size=BATCH_SIZE, \n",
        "    shuffle=True, \n",
        "    num_workers=NUM_WORKERS, \n",
        "    precompute_multi_scale=False\n",
        ")"
      ],
      "execution_count": 0,
      "outputs": []
    },
    {
      "cell_type": "code",
      "metadata": {
        "id": "YC0wA65jjuMN",
        "colab_type": "code",
        "colab": {
          "base_uri": "https://localhost:8080/",
          "height": 34
        },
        "outputId": "203e270b-80e0-4715-8bac-c1342bee9709"
      },
      "source": [
        "next(iter(dataset.test_dataloaders[0]))"
      ],
      "execution_count": 17,
      "outputs": [
        {
          "output_type": "execute_result",
          "data": {
            "text/plain": [
              "SimpleBatch(pos=[12, 2048, 3], x=[12, 2048, 3], y=[12, 1])"
            ]
          },
          "metadata": {
            "tags": []
          },
          "execution_count": 17
        }
      ]
    },
    {
      "cell_type": "code",
      "metadata": {
        "id": "oD9MKKlyjuMR",
        "colab_type": "code",
        "colab": {
          "base_uri": "https://localhost:8080/",
          "height": 34
        },
        "outputId": "c82f1cb1-8252-4a5d-91e7-3e5082d97333"
      },
      "source": [
        "tracker = dataset.get_tracker(False, False)\n",
        "tracker"
      ],
      "execution_count": 52,
      "outputs": [
        {
          "output_type": "execute_result",
          "data": {
            "text/plain": [
              "<torch_points3d.metrics.classification_tracker.ClassificationTracker at 0x7fd4e8f38b70>"
            ]
          },
          "metadata": {
            "tags": []
          },
          "execution_count": 52
        }
      ]
    },
    {
      "cell_type": "markdown",
      "metadata": {
        "id": "Cwz7oGwLjuMV",
        "colab_type": "text"
      },
      "source": [
        "## Training!\n",
        "We can now start our training loop, we will use the Adam optimizer with a learning rate of 0.01."
      ]
    },
    {
      "cell_type": "code",
      "metadata": {
        "id": "pTV-k6t4juMW",
        "colab_type": "code",
        "colab": {}
      },
      "source": [
        "optimizer = torch.optim.Adam(model.parameters(), lr=0.01)"
      ],
      "execution_count": 0,
      "outputs": []
    },
    {
      "cell_type": "code",
      "metadata": {
        "id": "7Uso46P7juMa",
        "colab_type": "code",
        "colab": {}
      },
      "source": [
        "from torch_points3d.metrics.colored_tqdm import Coloredtqdm as Ctq\n",
        "import time\n",
        "\n",
        "def train_epoch(device):\n",
        "    model.to(device)\n",
        "    model.train()\n",
        "    tracker.reset(\"train\")\n",
        "    train_loader = dataset.train_dataloader\n",
        "    iter_data_time = time.time()\n",
        "    with Ctq(train_loader) as tq_train_loader:\n",
        "        for i, data in enumerate(tq_train_loader):\n",
        "            t_data = time.time() - iter_data_time\n",
        "            iter_start_time = time.time()\n",
        "            optimizer.zero_grad()\n",
        "            data.to(device)\n",
        "            model.forward(data)\n",
        "            model.backward()\n",
        "            optimizer.step()\n",
        "            if i % 10 == 0:\n",
        "                tracker.track(model)\n",
        "\n",
        "            tq_train_loader.set_postfix(\n",
        "                **tracker.get_metrics(),\n",
        "                data_loading=float(t_data),\n",
        "                iteration=float(time.time() - iter_start_time),\n",
        "            )\n",
        "            iter_data_time = time.time()\n",
        "\n",
        "def test_epoch(device):\n",
        "    model.to(device)\n",
        "    model.eval()\n",
        "    tracker.reset(\"test\")\n",
        "    test_loader = dataset.test_dataloaders[0]\n",
        "    iter_data_time = time.time()\n",
        "    with Ctq(test_loader) as tq_test_loader:\n",
        "        for i, data in enumerate(tq_test_loader):\n",
        "            t_data = time.time() - iter_data_time\n",
        "            iter_start_time = time.time()\n",
        "            data.to(device)\n",
        "            model.forward(data)           \n",
        "            tracker.track(model)\n",
        "\n",
        "            tq_test_loader.set_postfix(\n",
        "                **tracker.get_metrics(),\n",
        "                data_loading=float(t_data),\n",
        "                iteration=float(time.time() - iter_start_time),\n",
        "            )\n",
        "            iter_data_time = time.time()"
      ],
      "execution_count": 0,
      "outputs": []
    },
    {
      "cell_type": "code",
      "metadata": {
        "id": "mfuxvTRbjuMe",
        "colab_type": "code",
        "colab": {
          "base_uri": "https://localhost:8080/",
          "height": 782
        },
        "outputId": "ade434cd-7ae8-4a63-cec3-c1e3a348e0e8"
      },
      "source": [
        "EPOCHS = 50\n",
        "for i in range(50):\n",
        "  print(\"=========== EPOCH %i ===========\" % i)\n",
        "  time.sleep(0.5)\n",
        "  train_epoch('cuda')\n",
        "  test_epoch('cuda')"
      ],
      "execution_count": 63,
      "outputs": [
        {
          "output_type": "stream",
          "text": [
            "=========== EPOCH 0 ===========\n"
          ],
          "name": "stdout"
        },
        {
          "output_type": "stream",
          "text": [
            "100%|██████████| 333/333 [02:39<00:00,  2.09it/s, data_loading=0.006, iteration=0.319, train_acc=86.27, train_loss_class=0.431]\n",
            "100%|██████████| 76/76 [00:15<00:00,  4.87it/s, data_loading=0.003, iteration=0.128, test_acc=86.95, test_loss_class=0.379]\n"
          ],
          "name": "stderr"
        },
        {
          "output_type": "stream",
          "text": [
            "=========== EPOCH 1 ===========\n"
          ],
          "name": "stdout"
        },
        {
          "output_type": "stream",
          "text": [
            "100%|██████████| 333/333 [02:39<00:00,  2.09it/s, data_loading=0.006, iteration=0.315, train_acc=88.72, train_loss_class=0.375]\n",
            "100%|██████████| 76/76 [00:15<00:00,  4.91it/s, data_loading=0.003, iteration=0.132, test_acc=88.15, test_loss_class=0.368]\n"
          ],
          "name": "stderr"
        },
        {
          "output_type": "stream",
          "text": [
            "=========== EPOCH 2 ===========\n"
          ],
          "name": "stdout"
        },
        {
          "output_type": "stream",
          "text": [
            "100%|██████████| 333/333 [02:39<00:00,  2.09it/s, data_loading=0.007, iteration=0.310, train_acc=90.68, train_loss_class=0.375]\n",
            "100%|██████████| 76/76 [00:15<00:00,  4.91it/s, data_loading=0.003, iteration=0.13 , test_acc=89.14, test_loss_class=0.317]\n"
          ],
          "name": "stderr"
        },
        {
          "output_type": "stream",
          "text": [
            "=========== EPOCH 3 ===========\n"
          ],
          "name": "stdout"
        },
        {
          "output_type": "stream",
          "text": [
            "100%|██████████| 333/333 [02:39<00:00,  2.09it/s, data_loading=0.007, iteration=0.321, train_acc=89.95, train_loss_class=0.358]\n",
            "100%|██████████| 76/76 [00:15<00:00,  4.92it/s, data_loading=0.004, iteration=0.129, test_acc=88.92, test_loss_class=0.357]\n"
          ],
          "name": "stderr"
        },
        {
          "output_type": "stream",
          "text": [
            "=========== EPOCH 4 ===========\n"
          ],
          "name": "stdout"
        },
        {
          "output_type": "stream",
          "text": [
            "100%|██████████| 333/333 [02:38<00:00,  2.10it/s, data_loading=0.007, iteration=0.314, train_acc=90.44, train_loss_class=0.290]\n",
            "100%|██████████| 76/76 [00:15<00:00,  4.88it/s, data_loading=0.010, iteration=0.129, test_acc=90.46, test_loss_class=0.293]\n"
          ],
          "name": "stderr"
        },
        {
          "output_type": "stream",
          "text": [
            "=========== EPOCH 5 ===========\n"
          ],
          "name": "stdout"
        },
        {
          "output_type": "stream",
          "text": [
            "100%|██████████| 333/333 [02:39<00:00,  2.09it/s, data_loading=0.004, iteration=0.312, train_acc=90.44, train_loss_class=0.343]\n",
            "100%|██████████| 76/76 [00:15<00:00,  4.90it/s, data_loading=0.003, iteration=0.130, test_acc=88.92, test_loss_class=0.317]\n"
          ],
          "name": "stderr"
        },
        {
          "output_type": "stream",
          "text": [
            "=========== EPOCH 6 ===========\n"
          ],
          "name": "stdout"
        },
        {
          "output_type": "stream",
          "text": [
            "100%|██████████| 333/333 [02:38<00:00,  2.10it/s, data_loading=0.012, iteration=0.307, train_acc=92.15, train_loss_class=0.304]\n",
            "100%|██████████| 76/76 [00:15<00:00,  4.87it/s, data_loading=0.005, iteration=0.131, test_acc=89.80, test_loss_class=0.312]\n"
          ],
          "name": "stderr"
        },
        {
          "output_type": "stream",
          "text": [
            "=========== EPOCH 7 ===========\n"
          ],
          "name": "stdout"
        },
        {
          "output_type": "stream",
          "text": [
            " 28%|██▊       | 93/333 [00:45<01:57,  2.05it/s, data_loading=0.004, iteration=0.475, train_acc=91.66, train_loss_class=0.357]\n"
          ],
          "name": "stderr"
        },
        {
          "output_type": "error",
          "ename": "KeyboardInterrupt",
          "evalue": "ignored",
          "traceback": [
            "\u001b[0;31m---------------------------------------------------------------------------\u001b[0m",
            "\u001b[0;31mKeyboardInterrupt\u001b[0m                         Traceback (most recent call last)",
            "\u001b[0;32m<ipython-input-63-007e2ed3c9e5>\u001b[0m in \u001b[0;36m<module>\u001b[0;34m()\u001b[0m\n\u001b[1;32m      3\u001b[0m   \u001b[0mprint\u001b[0m\u001b[0;34m(\u001b[0m\u001b[0;34m\"=========== EPOCH %i ===========\"\u001b[0m \u001b[0;34m%\u001b[0m \u001b[0mi\u001b[0m\u001b[0;34m)\u001b[0m\u001b[0;34m\u001b[0m\u001b[0;34m\u001b[0m\u001b[0m\n\u001b[1;32m      4\u001b[0m   \u001b[0mtime\u001b[0m\u001b[0;34m.\u001b[0m\u001b[0msleep\u001b[0m\u001b[0;34m(\u001b[0m\u001b[0;36m0.5\u001b[0m\u001b[0;34m)\u001b[0m\u001b[0;34m\u001b[0m\u001b[0;34m\u001b[0m\u001b[0m\n\u001b[0;32m----> 5\u001b[0;31m   \u001b[0mtrain_epoch\u001b[0m\u001b[0;34m(\u001b[0m\u001b[0;34m'cuda'\u001b[0m\u001b[0;34m)\u001b[0m\u001b[0;34m\u001b[0m\u001b[0;34m\u001b[0m\u001b[0m\n\u001b[0m\u001b[1;32m      6\u001b[0m   \u001b[0mtest_epoch\u001b[0m\u001b[0;34m(\u001b[0m\u001b[0;34m'cuda'\u001b[0m\u001b[0;34m)\u001b[0m\u001b[0;34m\u001b[0m\u001b[0;34m\u001b[0m\u001b[0m\n",
            "\u001b[0;32m<ipython-input-54-0411cf10ecee>\u001b[0m in \u001b[0;36mtrain_epoch\u001b[0;34m(device)\u001b[0m\n\u001b[1;32m     16\u001b[0m             \u001b[0mmodel\u001b[0m\u001b[0;34m.\u001b[0m\u001b[0mforward\u001b[0m\u001b[0;34m(\u001b[0m\u001b[0mdata\u001b[0m\u001b[0;34m)\u001b[0m\u001b[0;34m\u001b[0m\u001b[0;34m\u001b[0m\u001b[0m\n\u001b[1;32m     17\u001b[0m             \u001b[0mmodel\u001b[0m\u001b[0;34m.\u001b[0m\u001b[0mbackward\u001b[0m\u001b[0;34m(\u001b[0m\u001b[0;34m)\u001b[0m\u001b[0;34m\u001b[0m\u001b[0;34m\u001b[0m\u001b[0m\n\u001b[0;32m---> 18\u001b[0;31m             \u001b[0moptimizer\u001b[0m\u001b[0;34m.\u001b[0m\u001b[0mstep\u001b[0m\u001b[0;34m(\u001b[0m\u001b[0;34m)\u001b[0m\u001b[0;34m\u001b[0m\u001b[0;34m\u001b[0m\u001b[0m\n\u001b[0m\u001b[1;32m     19\u001b[0m             \u001b[0;32mif\u001b[0m \u001b[0mi\u001b[0m \u001b[0;34m%\u001b[0m \u001b[0;36m10\u001b[0m \u001b[0;34m==\u001b[0m \u001b[0;36m0\u001b[0m\u001b[0;34m:\u001b[0m\u001b[0;34m\u001b[0m\u001b[0;34m\u001b[0m\u001b[0m\n\u001b[1;32m     20\u001b[0m                 \u001b[0mtracker\u001b[0m\u001b[0;34m.\u001b[0m\u001b[0mtrack\u001b[0m\u001b[0;34m(\u001b[0m\u001b[0mmodel\u001b[0m\u001b[0;34m)\u001b[0m\u001b[0;34m\u001b[0m\u001b[0;34m\u001b[0m\u001b[0m\n",
            "\u001b[0;32m/usr/local/lib/python3.6/dist-packages/torch/optim/adam.py\u001b[0m in \u001b[0;36mstep\u001b[0;34m(self, closure)\u001b[0m\n\u001b[1;32m     94\u001b[0m                 \u001b[0;31m# Decay the first and second moment running average coefficient\u001b[0m\u001b[0;34m\u001b[0m\u001b[0;34m\u001b[0m\u001b[0;34m\u001b[0m\u001b[0m\n\u001b[1;32m     95\u001b[0m                 \u001b[0mexp_avg\u001b[0m\u001b[0;34m.\u001b[0m\u001b[0mmul_\u001b[0m\u001b[0;34m(\u001b[0m\u001b[0mbeta1\u001b[0m\u001b[0;34m)\u001b[0m\u001b[0;34m.\u001b[0m\u001b[0madd_\u001b[0m\u001b[0;34m(\u001b[0m\u001b[0;36m1\u001b[0m \u001b[0;34m-\u001b[0m \u001b[0mbeta1\u001b[0m\u001b[0;34m,\u001b[0m \u001b[0mgrad\u001b[0m\u001b[0;34m)\u001b[0m\u001b[0;34m\u001b[0m\u001b[0;34m\u001b[0m\u001b[0m\n\u001b[0;32m---> 96\u001b[0;31m                 \u001b[0mexp_avg_sq\u001b[0m\u001b[0;34m.\u001b[0m\u001b[0mmul_\u001b[0m\u001b[0;34m(\u001b[0m\u001b[0mbeta2\u001b[0m\u001b[0;34m)\u001b[0m\u001b[0;34m.\u001b[0m\u001b[0maddcmul_\u001b[0m\u001b[0;34m(\u001b[0m\u001b[0;36m1\u001b[0m \u001b[0;34m-\u001b[0m \u001b[0mbeta2\u001b[0m\u001b[0;34m,\u001b[0m \u001b[0mgrad\u001b[0m\u001b[0;34m,\u001b[0m \u001b[0mgrad\u001b[0m\u001b[0;34m)\u001b[0m\u001b[0;34m\u001b[0m\u001b[0;34m\u001b[0m\u001b[0m\n\u001b[0m\u001b[1;32m     97\u001b[0m                 \u001b[0;32mif\u001b[0m \u001b[0mamsgrad\u001b[0m\u001b[0;34m:\u001b[0m\u001b[0;34m\u001b[0m\u001b[0;34m\u001b[0m\u001b[0m\n\u001b[1;32m     98\u001b[0m                     \u001b[0;31m# Maintains the maximum of all 2nd moment running avg. till now\u001b[0m\u001b[0;34m\u001b[0m\u001b[0;34m\u001b[0m\u001b[0;34m\u001b[0m\u001b[0m\n",
            "\u001b[0;31mKeyboardInterrupt\u001b[0m: "
          ]
        }
      ]
    },
    {
      "cell_type": "code",
      "metadata": {
        "id": "atrcEWBW64uj",
        "colab_type": "code",
        "colab": {}
      },
      "source": [
        ""
      ],
      "execution_count": 0,
      "outputs": []
    }
  ]
}