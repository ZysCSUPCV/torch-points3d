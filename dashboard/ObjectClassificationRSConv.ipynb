{
  "nbformat": 4,
  "nbformat_minor": 0,
  "metadata": {
    "kernelspec": {
      "display_name": "Python 3",
      "language": "python",
      "name": "python3"
    },
    "language_info": {
      "codemirror_mode": {
        "name": "ipython",
        "version": 3
      },
      "file_extension": ".py",
      "mimetype": "text/x-python",
      "name": "python",
      "nbconvert_exporter": "python",
      "pygments_lexer": "ipython3",
      "version": "3.6.9"
    },
    "colab": {
      "name": "ObjectClassificationRSConv.ipynb",
      "provenance": []
    },
    "accelerator": "GPU"
  },
  "cells": [
    {
      "cell_type": "code",
      "metadata": {
        "id": "FFL6wvW8jvjO",
        "colab_type": "code",
        "colab": {}
      },
      "source": [
        "# Setup packages\n",
        "!pip install torch==1.3.1 pyvista torchvision==0.4.2\n",
        "!pip install --upgrade jsonschema\n",
        "!pip install git+git://github.com/nicolas-chaulet/torch-points3d.git@modelnet\n",
        "!apt-get install -qq xvfb"
      ],
      "execution_count": 0,
      "outputs": []
    },
    {
      "cell_type": "code",
      "metadata": {
        "id": "8_eOTvwjjuK4",
        "colab_type": "code",
        "colab": {
          "base_uri": "https://localhost:8080/",
          "height": 34
        },
        "outputId": "8165f9f9-64f2-40ca-e9cc-285d053abc98"
      },
      "source": [
        "# Needed for remote rendering \n",
        "import os\n",
        "os.system('export DISPLAY=:99.0 \\\n",
        "export PYVISTA_OFF_SCREEN=true \\\n",
        "export PYVISTA_USE_PANEL=true \\\n",
        "export PYVISTA_PLOT_THEME=document \\\n",
        "# This is needed for Panel - use with cuation!\\\n",
        "export PYVISTA_AUTO_CLOSE=false \\\n",
        "which Xvfb \\\n",
        "Xvfb :99 -screen 0 1024x768x24 > /dev/null 2>&1 & \\\n",
        "sleep 3 \\\n",
        "exec \"$@\"')"
      ],
      "execution_count": 32,
      "outputs": [
        {
          "output_type": "execute_result",
          "data": {
            "text/plain": [
              "0"
            ]
          },
          "metadata": {
            "tags": []
          },
          "execution_count": 32
        }
      ]
    },
    {
      "cell_type": "code",
      "metadata": {
        "id": "bKtehn7D4drk",
        "colab_type": "code",
        "colab": {}
      },
      "source": [
        "import os\n",
        "import sys\n",
        "from omegaconf import OmegaConf\n",
        "import pyvista as pv\n",
        "import torch"
      ],
      "execution_count": 0,
      "outputs": []
    },
    {
      "cell_type": "markdown",
      "metadata": {
        "id": "0sS0YEUXjuLO",
        "colab_type": "text"
      },
      "source": [
        "<p align=\"center\">\n",
        "  <img width=\"40%\" src=\"https://raw.githubusercontent.com/nicolas-chaulet/torch-points3d/master/docs/logo.png\" />\n",
        "</p>\n"
      ]
    },
    {
      "cell_type": "markdown",
      "metadata": {
        "id": "F1cLXfkkjuLP",
        "colab_type": "text"
      },
      "source": [
        "# Classifiying objects with Relation-Shape CNN\n",
        "This notebook explains how Torch Points3D can be used to solve an object classification task. We will use [ModelNet10](https://modelnet.cs.princeton.edu/) as our dataset and [Relation-Shape CNN](https://github.com/Yochengliu/Relation-Shape-CNN) as our model architecture. The dataset contains CAD models of objects that belong to 10 different categories nad the task is to retrieve the category of the object from its point cloud representation. The notebook covers the following aspects of Torch Points3D:\n",
        "\n",
        "1. Create a dataset with a data augmentation pipeline\n",
        "2. Instantiate a pre configured model\n",
        "3. Setup the data loaders\n",
        "4. Run a training\n"
      ]
    },
    {
      "cell_type": "markdown",
      "metadata": {
        "id": "EwOtGLfijuLR",
        "colab_type": "text"
      },
      "source": [
        "## The dataset\n",
        "We will use Torch Points3D to download and create the dataset. It automatically downloads a pre sampled version of ModelNet (with 10,000 points per object) and the data will be stored under the `ROOT/data/modelnet` directory. Creating the raw dataset is as simple as:"
      ]
    },
    {
      "cell_type": "code",
      "metadata": {
        "id": "P4iIhBJAjuLT",
        "colab_type": "code",
        "colab": {
          "base_uri": "https://localhost:8080/",
          "height": 124
        },
        "outputId": "b5bed6b5-d577-4518-bb7d-a32c980a8c69"
      },
      "source": [
        "from torch_points3d.datasets.classification.modelnet import SampledModelNet\n",
        "import torch_points3d.core.data_transform as T3D\n",
        "import torch_geometric.transforms as T\n",
        "\n",
        "dataroot = os.path.join(DIR, \"data/modelnet\")\n",
        "pre_transform = T.Compose([T.NormalizeScale(), T3D.GridSampling(0.02)])\n",
        "dataset = SampledModelNet(dataroot, name='10', train=True, transform=None,\n",
        "                 pre_transform=pre_transform, pre_filter=None)\n",
        "dataset[0]"
      ],
      "execution_count": 36,
      "outputs": [
        {
          "output_type": "stream",
          "text": [
            "/usr/local/lib/python3.6/dist-packages/torch_geometric/data/dataset.py:94: UserWarning: The `pre_transform` argument differs from the one used in the pre-processed version of this dataset. If you really want to make use of another pre-processing technique, make sure to delete `data/modelnet/processed/processed` first.\n",
            "  self.processed_dir))\n"
          ],
          "name": "stderr"
        },
        {
          "output_type": "stream",
          "text": [
            "Processing...\n",
            "Done!\n"
          ],
          "name": "stdout"
        },
        {
          "output_type": "execute_result",
          "data": {
            "text/plain": [
              "Data(norm=[8968, 3], pos=[8968, 3], y=[1])"
            ]
          },
          "metadata": {
            "tags": []
          },
          "execution_count": 36
        }
      ]
    },
    {
      "cell_type": "markdown",
      "metadata": {
        "id": "F0cY35y1juLZ",
        "colab_type": "text"
      },
      "source": [
        "Each sample is a CAD model of an object (bathtub, toilet, bed, etc...), the `pos` attribute contains the coordinates of points sampled on each face of the mesh while `norm` contains the normal vector. You will notice that we have applied two pre transforms to our dataset:\n",
        "\n",
        "- `NormalizeScale` normalises the scale of each object\n",
        "- `GridSampling` does a voxel downsizing of each point cloud with a resolution of 0.01 (in normalized scale). This ensures that we don't have really dense areas.\n",
        "\n",
        "Let's visualise some of those examples before going any further.\n"
      ]
    },
    {
      "cell_type": "code",
      "metadata": {
        "id": "OsFH72B9juLa",
        "colab_type": "code",
        "colab": {
          "base_uri": "https://localhost:8080/",
          "height": 367
        },
        "outputId": "18ab1ef2-1531-4f77-a25c-11d88568fc26"
      },
      "source": [
        "samples = [10,1000,3000]\n",
        "p = pv.Plotter(notebook=True,shape=(1, len(samples)),window_size=[1024,412])\n",
        "\n",
        "for i in range(len(samples)):\n",
        "    p.subplot(0, i)\n",
        "    sample = dataset[samples[i]].pos.numpy()\n",
        "    point_cloud = pv.PolyData(sample)\n",
        "    point_cloud['y'] = sample[:,1]\n",
        "    p.add_points(point_cloud)\n",
        "    p.camera_position = [-1,5, -10]\n",
        "p.show()"
      ],
      "execution_count": 37,
      "outputs": [
        {
          "output_type": "display_data",
          "data": {
            "image/png": "[encoded data removed]",
            "text/plain": [
              "<PIL.Image.Image image mode=RGB size=1024x412 at 0x7FD4E6C42630>"
            ]
          },
          "metadata": {
            "tags": []
          }
        }
      ]
    },
    {
      "cell_type": "markdown",
      "metadata": {
        "id": "FYE0OSUhjuLg",
        "colab_type": "text"
      },
      "source": [
        "## Building a model\n",
        "As mentioned in the introduction we will use Relation-Shape CNN as our backbone architecture for the model classifier. Let's build our model by using Torch Points3D API (you can ignore the error, it comes from a third party library and all works just fine)."
      ]
    },
    {
      "cell_type": "code",
      "metadata": {
        "id": "dWvt8XsojuLi",
        "colab_type": "code",
        "colab": {
          "base_uri": "https://localhost:8080/",
          "height": 72
        },
        "outputId": "1956d387-2281-42d8-d4ff-93f073309f7b"
      },
      "source": [
        "from torch_points3d.applications.rsconv import RSConv"
      ],
      "execution_count": 3,
      "outputs": [
        {
          "output_type": "stream",
          "text": [
            "ERROR:root:The testing module requires faiss. You can install the GPU version with the command 'conda install faiss-gpu -c pytorch' \n",
            "                        or the CPU version with 'conda install faiss-cpu -c pytorch'. Learn more at https://github.com/facebookresearch/faiss/blob/master/INSTALL.md\n"
          ],
          "name": "stderr"
        }
      ]
    },
    {
      "cell_type": "code",
      "metadata": {
        "id": "ffGE6xUNjuLo",
        "colab_type": "code",
        "colab": {}
      },
      "source": [
        "class RSConvCLassifier(torch.nn.Module):\n",
        "    def __init__(self):\n",
        "        super().__init__() \n",
        "        self.encoder = RSConv(\"encoder\", input_nc=3,output_nc = 10, num_layers=4)\n",
        "        self.log_softmax = torch.nn.LogSoftmax(dim=-1)\n",
        "    \n",
        "    @property\n",
        "    def conv_type(self):\n",
        "        return self.encoder.conv_type\n",
        "    \n",
        "    def get_output(self):\n",
        "        \"\"\" This is needed by the tracker to get access to the ouputs of the network\"\"\"\n",
        "        return self.output\n",
        "    \n",
        "    def get_labels(self):\n",
        "        \"\"\" Needed by the tracker in order to access ground truth labels\"\"\"\n",
        "        return self.labels\n",
        "    \n",
        "    def get_current_losses(self):\n",
        "        \"\"\" Entry point for the tracker to grab the loss \"\"\"\n",
        "        return {\"loss_class\": float(self.loss_class)}\n",
        "    \n",
        "    def forward(self, data):\n",
        "        data_out = self.encoder(data)\n",
        "        \n",
        "        # Set variables for the tracker and backward pass\n",
        "        self.output = self.log_softmax(data_out.x.squeeze())\n",
        "        self.labels = data.y.squeeze()\n",
        "        self.loss_class = torch.nn.functional.nll_loss(self.output, self.labels)\n",
        "    \n",
        "    def backward(self):\n",
        "         self.loss_class.backward()    \n",
        "        "
      ],
      "execution_count": 0,
      "outputs": []
    },
    {
      "cell_type": "code",
      "metadata": {
        "id": "r-C7fltXjuLt",
        "colab_type": "code",
        "colab": {
          "base_uri": "https://localhost:8080/",
          "height": 54
        },
        "outputId": "d834c92b-cfde-4fe1-d77e-d524e87c5141"
      },
      "source": [
        "model = RSConvCLassifier()"
      ],
      "execution_count": 46,
      "outputs": [
        {
          "output_type": "stream",
          "text": [
            "WARNING:torch_points3d.modules.RSConv.dense:The down_conv_nn has a different size as radii. Make sure of have SharedRSConv\n"
          ],
          "name": "stderr"
        }
      ]
    },
    {
      "cell_type": "markdown",
      "metadata": {
        "id": "S30iNr4TjuLx",
        "colab_type": "text"
      },
      "source": [
        "## Setting up the data loaders\n",
        "In this section, we will first build  a data loader using only PyTorch Geometric methods, and then we will see how one can use our dataset wrapper to assemble a dataset ready for training with its test and train data loader configured.\n",
        "\n",
        "Let's start with a vanillia data loader. There are two ways to assemble batches depending on the model that is used. In that case we will want dense batches where samples are concatenated along the first dimension, just like for batches of images. It is very important to ensure that each sample has got the same number of points, this can be achieved by applying a `FixedPoints` transform to the dataset. here we will use 2048 points per object."
      ]
    },
    {
      "cell_type": "code",
      "metadata": {
        "id": "UMKyO1qPjuLy",
        "colab_type": "code",
        "colab": {
          "base_uri": "https://localhost:8080/",
          "height": 34
        },
        "outputId": "c4c01e15-663b-4055-8096-5d5ad9d8a8d3"
      },
      "source": [
        "from torch_points3d.datasets.batch import SimpleBatch\n",
        "NUM_WORKERS = 4\n",
        "BATCH_SIZE = 12\n",
        "\n",
        "transform = T.FixedPoints(2048)\n",
        "dataset = SampledModelNet(dataroot, name='10', train=True, transform=transform,\n",
        "                 pre_transform=pre_transform, pre_filter=None)\n",
        "\n",
        "collate_function = lambda datalist: SimpleBatch.from_data_list(datalist)\n",
        "train_loader = torch.utils.data.DataLoader(\n",
        "    dataset, \n",
        "    batch_size=BATCH_SIZE, \n",
        "    shuffle=True, \n",
        "    num_workers=NUM_WORKERS,  \n",
        "    collate_fn=collate_function\n",
        ")\n",
        "next(iter(train_loader))"
      ],
      "execution_count": 47,
      "outputs": [
        {
          "output_type": "execute_result",
          "data": {
            "text/plain": [
              "SimpleBatch(norm=[12, 2048, 3], pos=[12, 2048, 3], y=[12, 1])"
            ]
          },
          "metadata": {
            "tags": []
          },
          "execution_count": 47
        }
      ]
    },
    {
      "cell_type": "markdown",
      "metadata": {
        "id": "FR1oib1ajuL4",
        "colab_type": "text"
      },
      "source": [
        "If we were using a model that can handle packed data we would not need the `FixedPoints` transform at all and each object could have a different number of points."
      ]
    },
    {
      "cell_type": "code",
      "metadata": {
        "id": "t-L5aUdhjuL4",
        "colab_type": "code",
        "colab": {
          "base_uri": "https://localhost:8080/",
          "height": 34
        },
        "outputId": "5b8a392c-7152-4650-ee7e-d189f08bd5ab"
      },
      "source": [
        "from torch_geometric.data import Batch\n",
        "\n",
        "dataset = SampledModelNet(dataroot, name='10', train=True, transform=None,\n",
        "                 pre_transform=pre_transform, pre_filter=None)\n",
        "\n",
        "collate_function = lambda datalist: Batch.from_data_list(datalist)\n",
        "train_loader = torch.utils.data.DataLoader(\n",
        "    dataset, \n",
        "    batch_size=BATCH_SIZE, \n",
        "    shuffle=True, \n",
        "    num_workers=NUM_WORKERS,  \n",
        "    collate_fn=collate_function\n",
        ")\n",
        "next(iter(train_loader))"
      ],
      "execution_count": 48,
      "outputs": [
        {
          "output_type": "execute_result",
          "data": {
            "text/plain": [
              "Batch(batch=[95636], norm=[95636, 3], pos=[95636, 3], y=[12])"
            ]
          },
          "metadata": {
            "tags": []
          },
          "execution_count": 48
        }
      ]
    },
    {
      "cell_type": "markdown",
      "metadata": {
        "id": "6UkV3L28juL9",
        "colab_type": "text"
      },
      "source": [
        "We also provide a higher level interface that builds the train and test data loaders for you based on which model you use. We use an OmegaConf config to instantiate it (or any object with a similar interface). The config must contain the arguments required by the dataset. We can also include the pre transforms, test transforms and train transforms. In our case, the config will be as follow:"
      ]
    },
    {
      "cell_type": "code",
      "metadata": {
        "id": "kmcefLM9juL-",
        "colab_type": "code",
        "colab": {}
      },
      "source": [
        "yaml_config = \"\"\"\n",
        "task: classification\n",
        "class: modelnet.ModelNetDataset\n",
        "name: modelnet\n",
        "dataroot: {}\n",
        "number: 10\n",
        "pre_transforms:\n",
        "    - transform: NormalizeScale\n",
        "    - transform: GridSampling\n",
        "      lparams: [0.02]\n",
        "train_transforms:\n",
        "    - transform: FixedPoints\n",
        "      lparams: [2048]\n",
        "    - transform: RandomNoise\n",
        "    - transform: RandomRotate\n",
        "      params:\n",
        "        degrees: 180\n",
        "        axis: 2\n",
        "    - transform: AddFeatsByKeys\n",
        "      params:\n",
        "        feat_names: [norm]\n",
        "        list_add_to_x: [True]\n",
        "        delete_feats: [True]\n",
        "test_transforms:\n",
        "    - transform: FixedPoints\n",
        "      lparams: [2048]\n",
        "    - transform: AddFeatsByKeys\n",
        "      params:\n",
        "        feat_names: [norm]\n",
        "        list_add_to_x: [True]\n",
        "        delete_feats: [True]\n",
        "\"\"\".format(os.path.join(DIR, \"data\"))\n",
        "\n",
        "from omegaconf import OmegaConf\n",
        "params = OmegaConf.create(yaml_config)"
      ],
      "execution_count": 0,
      "outputs": []
    },
    {
      "cell_type": "code",
      "metadata": {
        "id": "LkGJygG2juMD",
        "colab_type": "code",
        "colab": {
          "base_uri": "https://localhost:8080/",
          "height": 558
        },
        "outputId": "23ccd73b-09c5-4253-b473-a98d48c186f6"
      },
      "source": [
        "from torch_points3d.datasets.classification.modelnet import ModelNetDataset\n",
        "dataset = ModelNetDataset(params)\n",
        "dataset"
      ],
      "execution_count": 50,
      "outputs": [
        {
          "output_type": "stream",
          "text": [
            "/usr/local/lib/python3.6/dist-packages/torch_geometric/data/dataset.py:94: UserWarning: The `pre_transform` argument differs from the one used in the pre-processed version of this dataset. If you really want to make use of another pre-processing technique, make sure to delete `data/modelnet/processed/processed` first.\n",
            "  self.processed_dir))\n"
          ],
          "name": "stderr"
        },
        {
          "output_type": "execute_result",
          "data": {
            "text/plain": [
              "Dataset: ModelNetDataset \n",
              "\u001b[0;95mpre_transform \u001b[0m= Compose([\n",
              "    NormalizeScale(),\n",
              "    GridSampling(grid_size=0.02, quantize_coords=False, mode=mean),\n",
              "    FixedPoints(2048, replace=True),\n",
              "    AddFeatsByKeys(norm=True),\n",
              "])\n",
              "\u001b[0;95mtest_transform \u001b[0m= Compose([\n",
              "    FixedPoints(2048, replace=True),\n",
              "    AddFeatsByKeys(norm=True),\n",
              "])\n",
              "\u001b[0;95mtrain_transform \u001b[0m= Compose([\n",
              "    FixedPoints(2048, replace=True),\n",
              "    RandomNoise(sigma=0.01, clip=0.05),\n",
              "    RandomRotate((-180, 180), axis=2),\n",
              "    AddFeatsByKeys(norm=True),\n",
              "])\n",
              "\u001b[0;95mval_transform \u001b[0m= None\n",
              "\u001b[0;95minference_transform \u001b[0m= Compose([\n",
              "    NormalizeScale(),\n",
              "    GridSampling(grid_size=0.02, quantize_coords=False, mode=mean),\n",
              "    FixedPoints(2048, replace=True),\n",
              "    AddFeatsByKeys(norm=True),\n",
              "])\n",
              "Size of \u001b[0;95mtrain_dataset \u001b[0m= 3991\n",
              "Size of \u001b[0;95mtest_dataset \u001b[0m= 908\n",
              "Size of \u001b[0;95mval_dataset \u001b[0m= 0\n",
              "\u001b[0;95mBatch size =\u001b[0m None"
            ]
          },
          "metadata": {
            "tags": []
          },
          "execution_count": 50
        }
      ]
    },
    {
      "cell_type": "markdown",
      "metadata": {
        "id": "Z86lKgNejuMI",
        "colab_type": "text"
      },
      "source": [
        "We can see here that the train and test transforms have been set properly. The batch size is still not set since the data loaders have not been instantiaded yet, let's do that now and we will have a dataset ready for training. We can also instantiate the tracker directly from the dataset which reduces potential risks in using the wrong metrics."
      ]
    },
    {
      "cell_type": "code",
      "metadata": {
        "id": "EfVbU3VHjuMJ",
        "colab_type": "code",
        "colab": {}
      },
      "source": [
        "dataset.create_dataloaders(\n",
        "    model, \n",
        "    batch_size=BATCH_SIZE, \n",
        "    shuffle=True, \n",
        "    num_workers=NUM_WORKERS, \n",
        "    precompute_multi_scale=False\n",
        ")"
      ],
      "execution_count": 0,
      "outputs": []
    },
    {
      "cell_type": "code",
      "metadata": {
        "id": "YC0wA65jjuMN",
        "colab_type": "code",
        "colab": {
          "base_uri": "https://localhost:8080/",
          "height": 34
        },
        "outputId": "203e270b-80e0-4715-8bac-c1342bee9709"
      },
      "source": [
        "next(iter(dataset.test_dataloaders[0]))"
      ],
      "execution_count": 17,
      "outputs": [
        {
          "output_type": "execute_result",
          "data": {
            "text/plain": [
              "SimpleBatch(pos=[12, 2048, 3], x=[12, 2048, 3], y=[12, 1])"
            ]
          },
          "metadata": {
            "tags": []
          },
          "execution_count": 17
        }
      ]
    },
    {
      "cell_type": "code",
      "metadata": {
        "id": "oD9MKKlyjuMR",
        "colab_type": "code",
        "colab": {
          "base_uri": "https://localhost:8080/",
          "height": 34
        },
        "outputId": "c82f1cb1-8252-4a5d-91e7-3e5082d97333"
      },
      "source": [
        "tracker = dataset.get_tracker(False, False)\n",
        "tracker"
      ],
      "execution_count": 52,
      "outputs": [
        {
          "output_type": "execute_result",
          "data": {
            "text/plain": [
              "<torch_points3d.metrics.classification_tracker.ClassificationTracker at 0x7fd4e8f38b70>"
            ]
          },
          "metadata": {
            "tags": []
          },
          "execution_count": 52
        }
      ]
    },
    {
      "cell_type": "markdown",
      "metadata": {
        "id": "Cwz7oGwLjuMV",
        "colab_type": "text"
      },
      "source": [
        "## Training!\n",
        "We can now start our training loop, we will use the Adam optimizer with a learning rate of 0.01."
      ]
    },
    {
      "cell_type": "code",
      "metadata": {
        "id": "pTV-k6t4juMW",
        "colab_type": "code",
        "colab": {}
      },
      "source": [
        "optimizer = torch.optim.Adam(model.parameters(), lr=0.01)"
      ],
      "execution_count": 0,
      "outputs": []
    },
    {
      "cell_type": "code",
      "metadata": {
        "id": "7Uso46P7juMa",
        "colab_type": "code",
        "colab": {}
      },
      "source": [
        "from torch_points3d.metrics.colored_tqdm import Coloredtqdm as Ctq\n",
        "import time\n",
        "\n",
        "def train_epoch(device):\n",
        "    model.to(device)\n",
        "    model.train()\n",
        "    tracker.reset(\"train\")\n",
        "    train_loader = dataset.train_dataloader\n",
        "    iter_data_time = time.time()\n",
        "    with Ctq(train_loader) as tq_train_loader:\n",
        "        for i, data in enumerate(tq_train_loader):\n",
        "            t_data = time.time() - iter_data_time\n",
        "            iter_start_time = time.time()\n",
        "            optimizer.zero_grad()\n",
        "            data.to(device)\n",
        "            model.forward(data)\n",
        "            model.backward()\n",
        "            optimizer.step()\n",
        "            if i % 10 == 0:\n",
        "                tracker.track(model)\n",
        "\n",
        "            tq_train_loader.set_postfix(\n",
        "                **tracker.get_metrics(),\n",
        "                data_loading=float(t_data),\n",
        "                iteration=float(time.time() - iter_start_time),\n",
        "            )\n",
        "            iter_data_time = time.time()\n",
        "\n",
        "def test_epoch(device):\n",
        "    model.to(device)\n",
        "    model.eval()\n",
        "    tracker.reset(\"test\")\n",
        "    test_loader = dataset.test_dataloaders[0]\n",
        "    iter_data_time = time.time()\n",
        "    with Ctq(test_loader) as tq_test_loader:\n",
        "        for i, data in enumerate(tq_test_loader):\n",
        "            t_data = time.time() - iter_data_time\n",
        "            iter_start_time = time.time()\n",
        "            data.to(device)\n",
        "            model.forward(data)           \n",
        "            tracker.track(model)\n",
        "\n",
        "            tq_test_loader.set_postfix(\n",
        "                **tracker.get_metrics(),\n",
        "                data_loading=float(t_data),\n",
        "                iteration=float(time.time() - iter_start_time),\n",
        "            )\n",
        "            iter_data_time = time.time()"
      ],
      "execution_count": 0,
      "outputs": []
    },
    {
      "cell_type": "code",
      "metadata": {
        "id": "mfuxvTRbjuMe",
        "colab_type": "code",
        "colab": {
          "base_uri": "https://localhost:8080/",
          "height": 124
        },
        "outputId": "ade434cd-7ae8-4a63-cec3-c1e3a348e0e8"
      },
      "source": [
        "EPOCHS = 50\n",
        "for i in range(50):\n",
        "  print(\"=========== EPOCH %i ===========\" % i)\n",
        "  time.sleep(0.5)\n",
        "  train_epoch('cuda')\n",
        "  test_epoch('cuda')"
      ],
      "execution_count": 0,
      "outputs": [
        {
          "output_type": "stream",
          "text": [
            "=========== EPOCH 0 ===========\n"
          ],
          "name": "stdout"
        },
        {
          "output_type": "stream",
          "text": [
            "100%|██████████| 333/333 [02:39<00:00,  2.09it/s, data_loading=0.006, iteration=0.319, train_acc=86.27, train_loss_class=0.431]\n",
            "100%|██████████| 76/76 [00:15<00:00,  4.87it/s, data_loading=0.003, iteration=0.128, test_acc=86.95, test_loss_class=0.379]\n"
          ],
          "name": "stderr"
        },
        {
          "output_type": "stream",
          "text": [
            "=========== EPOCH 1 ===========\n"
          ],
          "name": "stdout"
        },
        {
          "output_type": "stream",
          "text": [
            " 56%|█████▌    | 185/333 [01:28<01:10,  2.11it/s, data_loading=0.007, iteration=0.46 , train_acc=89.47, train_loss_class=0.373]"
          ],
          "name": "stderr"
        }
      ]
    },
    {
      "cell_type": "code",
      "metadata": {
        "id": "atrcEWBW64uj",
        "colab_type": "code",
        "colab": {}
      },
      "source": [
        ""
      ],
      "execution_count": 0,
      "outputs": []
    }
  ]
}