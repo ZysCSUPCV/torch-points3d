{
  "nbformat": 4,
  "nbformat_minor": 0,
  "metadata": {
    "kernelspec": {
      "display_name": "Python 3",
      "language": "python",
      "name": "python3"
    },
    "language_info": {
      "codemirror_mode": {
        "name": "ipython",
        "version": 3
      },
      "file_extension": ".py",
      "mimetype": "text/x-python",
      "name": "python",
      "nbconvert_exporter": "python",
      "pygments_lexer": "ipython3",
      "version": "3.6.9"
    },
    "colab": {
      "name": "ObjectClassificationRSConv.ipynb",
      "provenance": [],
      "include_colab_link": true
    },
    "accelerator": "GPU"
  },
  "cells": [
    {
      "cell_type": "markdown",
      "metadata": {
        "id": "view-in-github",
        "colab_type": "text"
      },
      "source": [
        "<a href=\"https://colab.research.google.com/github/nicolas-chaulet/torch-points3d/blob/modelnettuto/dashboard/ObjectClassificationRSConv.ipynb\" target=\"_parent\"><img src=\"https://colab.research.google.com/assets/colab-badge.svg\" alt=\"Open In Colab\"/></a>"
      ]
    },
    {
      "cell_type": "code",
      "metadata": {
        "id": "FFL6wvW8jvjO",
        "colab_type": "code",
        "colab": {}
      },
      "source": [
        "# Setup anywhere\n",
        "!pip install torch==1.3.1 pyvista torchvision==0.4.2\n",
        "!pip install --upgrade jsonschema\n",
        "!pip install git+git://github.com/nicolas-chaulet/torch-points3d.git@modelnet\n",
        "!apt-get install -qq xvfb"
      ],
      "execution_count": 0,
      "outputs": []
    },
    {
      "cell_type": "code",
      "metadata": {
        "id": "8_eOTvwjjuK4",
        "colab_type": "code",
        "colab": {
          "base_uri": "https://localhost:8080/",
          "height": 34
        },
        "outputId": "8165f9f9-64f2-40ca-e9cc-285d053abc98"
      },
      "source": [
        "# Needed for remote rendering \n",
        "import os\n",
        "os.system('export DISPLAY=:99.0 \\\n",
        "export PYVISTA_OFF_SCREEN=true \\\n",
        "export PYVISTA_USE_PANEL=true \\\n",
        "export PYVISTA_PLOT_THEME=document \\\n",
        "# This is needed for Panel - use with cuation!\\\n",
        "export PYVISTA_AUTO_CLOSE=false \\\n",
        "which Xvfb \\\n",
        "Xvfb :99 -screen 0 1024x768x24 > /dev/null 2>&1 & \\\n",
        "sleep 3 \\\n",
        "exec \"$@\"')"
      ],
      "execution_count": 32,
      "outputs": [
        {
          "output_type": "execute_result",
          "data": {
            "text/plain": [
              "0"
            ]
          },
          "metadata": {
            "tags": []
          },
          "execution_count": 32
        }
      ]
    },
    {
      "cell_type": "code",
      "metadata": {
        "id": "bKtehn7D4drk",
        "colab_type": "code",
        "colab": {}
      },
      "source": [
        "import os\n",
        "import sys\n",
        "from omegaconf import OmegaConf\n",
        "import pyvista as pv\n",
        "import torch"
      ],
      "execution_count": 0,
      "outputs": []
    },
    {
      "cell_type": "markdown",
      "metadata": {
        "id": "0sS0YEUXjuLO",
        "colab_type": "text"
      },
      "source": [
        "<p align=\"center\">\n",
        "  <img width=\"40%\" src=\"https://raw.githubusercontent.com/nicolas-chaulet/torch-points3d/master/docs/logo.png\" />\n",
        "</p>\n"
      ]
    },
    {
      "cell_type": "markdown",
      "metadata": {
        "id": "F1cLXfkkjuLP",
        "colab_type": "text"
      },
      "source": [
        "# Classifiying objects with Relation-Shape CNN\n",
        "This notebook explains how Torch Points3D can be used to solve an object classification task. We will use [ModelNet](https://modelnet.cs.princeton.edu/) as our dataset and [Relation-Shape CNN](https://github.com/Yochengliu/Relation-Shape-CNN) as our model architecture. The notebook covers the following aspects of Torch Points3D:\n",
        "\n",
        "1. Create a dataset with a data augmentation pipeline\n",
        "2. Instantiate a pre configured model\n",
        "3. Setup the data loaders\n",
        "4. Run a training\n"
      ]
    },
    {
      "cell_type": "markdown",
      "metadata": {
        "id": "EwOtGLfijuLR",
        "colab_type": "text"
      },
      "source": [
        "## The dataset\n",
        "We will use Torch Points3D to download and create the dataset. It automatically downloads a pre sampled version of ModelNet (with 10,000 points per object) and the data will be stored under the `ROOT/data/modelnet` directory. Creating the raw dataset is as simple as:"
      ]
    },
    {
      "cell_type": "code",
      "metadata": {
        "id": "P4iIhBJAjuLT",
        "colab_type": "code",
        "colab": {
          "base_uri": "https://localhost:8080/",
          "height": 89
        },
        "outputId": "b5bed6b5-d577-4518-bb7d-a32c980a8c69"
      },
      "source": [
        "from torch_points3d.datasets.classification.modelnet import SampledModelNet\n",
        "import torch_points3d.core.data_transform as T3D\n",
        "import torch_geometric.transforms as T\n",
        "\n",
        "dataroot = os.path.join(DIR, \"data/modelnet\")\n",
        "pre_transform = T.Compose([T.NormalizeScale(), T3D.GridSampling(0.02)])\n",
        "dataset = SampledModelNet(dataroot, name='10', train=True, transform=None,\n",
        "                 pre_transform=pre_transform, pre_filter=None)\n",
        "dataset[0]"
      ],
      "execution_count": 0,
      "outputs": [
        {
          "output_type": "stream",
          "text": [
            "/usr/local/lib/python3.6/dist-packages/torch_geometric/data/dataset.py:94: UserWarning: The `pre_transform` argument differs from the one used in the pre-processed version of this dataset. If you really want to make use of another pre-processing technique, make sure to delete `data/modelnet/processed/processed` first.\n",
            "  self.processed_dir))\n"
          ],
          "name": "stderr"
        },
        {
          "output_type": "stream",
          "text": [
            "Processing...\n"
          ],
          "name": "stdout"
        }
      ]
    },
    {
      "cell_type": "markdown",
      "metadata": {
        "id": "F0cY35y1juLZ",
        "colab_type": "text"
      },
      "source": [
        "Each sample is a CAD model of an object (bathtub, toilet, bed, etc...), the `pos` attribute contains the coordinates of points sampled on each face of the mesh while `norm` contains the normal vector. You will notice that we have applied two pre transforms to our dataset:\n",
        "\n",
        "- `NormalizeScale` normalises the scale of each object\n",
        "- `GridSampling` does a voxel downsizing of each point cloud with a resolution of 0.01 (in normalized scale). This ensures that we don't have really dense areas.\n",
        "\n",
        "Let's visualise some of those examples before going any further.\n"
      ]
    },
    {
      "cell_type": "code",
      "metadata": {
        "id": "OsFH72B9juLa",
        "colab_type": "code",
        "colab": {
          "base_uri": "https://localhost:8080/",
          "height": 367
        },
        "outputId": "c1916c01-b76c-48d9-f1d3-411ec2584e8e"
      },
      "source": [
        "samples = [10,1000,3000]\n",
        "p = pv.Plotter(notebook=True,shape=(1, len(samples)),window_size=[1024,412])\n",
        "\n",
        "for i in range(len(samples)):\n",
        "    p.subplot(0, i)\n",
        "    sample = dataset[samples[i]].pos.numpy()\n",
        "    point_cloud = pv.PolyData(sample)\n",
        "    point_cloud['y'] = sample[:,1]\n",
        "    p.add_points(point_cloud)\n",
        "    p.camera_position = [-1,5, -10]\n",
        "p.show()"
      ],
      "execution_count": 35,
      "outputs": [
        {
          "output_type": "display_data",
          "data": {
            "image/png": "[encoded data removed]",
            "text/plain": [
              "<PIL.Image.Image image mode=RGB size=1024x412 at 0x7FD4E6C42B00>"
            ]
          },
          "metadata": {
            "tags": []
          }
        }
      ]
    },
    {
      "cell_type": "markdown",
      "metadata": {
        "id": "FYE0OSUhjuLg",
        "colab_type": "text"
      },
      "source": [
        "## The model\n",
        "As mentioned in the introduction we will use Relation-Shape CNN as our backbone architecture for the model classifier. Let's build our model by using Torch Points3D API (you can ignore the error, it comes from a third party library and all works just fine)."
      ]
    },
    {
      "cell_type": "code",
      "metadata": {
        "id": "dWvt8XsojuLi",
        "colab_type": "code",
        "colab": {
          "base_uri": "https://localhost:8080/",
          "height": 72
        },
        "outputId": "1956d387-2281-42d8-d4ff-93f073309f7b"
      },
      "source": [
        "from torch_points3d.applications.rsconv import RSConv"
      ],
      "execution_count": 3,
      "outputs": [
        {
          "output_type": "stream",
          "text": [
            "ERROR:root:The testing module requires faiss. You can install the GPU version with the command 'conda install faiss-gpu -c pytorch' \n",
            "                        or the CPU version with 'conda install faiss-cpu -c pytorch'. Learn more at https://github.com/facebookresearch/faiss/blob/master/INSTALL.md\n"
          ],
          "name": "stderr"
        }
      ]
    },
    {
      "cell_type": "code",
      "metadata": {
        "id": "ffGE6xUNjuLo",
        "colab_type": "code",
        "colab": {}
      },
      "source": [
        "class RSConvCLassifier(torch.nn.Module):\n",
        "    def __init__(self):\n",
        "        super().__init__() \n",
        "        self.encoder = RSConv(\"encoder\", input_nc=3,output_nc = 10, num_layers=4)\n",
        "        self.log_softmax = torch.nn.LogSoftmax(dim=-1)\n",
        "    \n",
        "    @property\n",
        "    def conv_type(self):\n",
        "        return self.encoder.conv_type\n",
        "    \n",
        "    def get_output(self):\n",
        "        \"\"\" This is needed by the tracker to get access to the ouputs of the network\"\"\"\n",
        "        return self.output\n",
        "    \n",
        "    def get_labels(self):\n",
        "        \"\"\" Needed by the tracker in order to access ground truth labels\"\"\"\n",
        "        return self.labels\n",
        "    \n",
        "    def get_current_losses(self):\n",
        "        \"\"\" Entry point for the tracker to grab the loss \"\"\"\n",
        "        return {\"loss_class\": float(self.loss_class)}\n",
        "    \n",
        "    def forward(self, data):\n",
        "        data_out = self.encoder(data)\n",
        "        \n",
        "        # Set variables for the tracker and backward pass\n",
        "        self.output = self.log_softmax(data_out.x.squeeze())\n",
        "        self.labels = data.y.squeeze()\n",
        "        self.loss_class = torch.nn.functional.nll_loss(self.output, self.labels)\n",
        "    \n",
        "    def backward(self):\n",
        "         self.loss_class.backward()    \n",
        "        "
      ],
      "execution_count": 0,
      "outputs": []
    },
    {
      "cell_type": "code",
      "metadata": {
        "id": "r-C7fltXjuLt",
        "colab_type": "code",
        "colab": {
          "base_uri": "https://localhost:8080/",
          "height": 54
        },
        "outputId": "ecfefd29-3e84-4c99-a27d-cad710234ebc"
      },
      "source": [
        "model = RSConvCLassifier()"
      ],
      "execution_count": 15,
      "outputs": [
        {
          "output_type": "stream",
          "text": [
            "WARNING:torch_points3d.modules.RSConv.dense:The down_conv_nn has a different size as radii. Make sure of have SharedRSConv\n"
          ],
          "name": "stderr"
        }
      ]
    },
    {
      "cell_type": "markdown",
      "metadata": {
        "id": "S30iNr4TjuLx",
        "colab_type": "text"
      },
      "source": [
        "## The data loaders\n",
        "In this section, we will first build  a data loader using only PyTorch Geometric methods, and then we will see how one can use our dataset wrapper to assemble a dataset ready for training with its test and train data loader configured.\n",
        "\n",
        "Let's start with a vanillia data loader. There are two ways to assemble batches depending on the model that is used. In that case we will want dense batches where samples are concatenated along the first dimension, just like for batches of images. It is very important to ensure that each sample has got the same number of points, this can be achieved by applying a `FixedPoints` transform to the dataset. here we will use 2048 points per object."
      ]
    },
    {
      "cell_type": "code",
      "metadata": {
        "id": "UMKyO1qPjuLy",
        "colab_type": "code",
        "colab": {
          "base_uri": "https://localhost:8080/",
          "height": 34
        },
        "outputId": "c22f78e6-825c-4013-af8a-2dafd2e0ffa5"
      },
      "source": [
        "from torch_points3d.datasets.batch import SimpleBatch\n",
        "NUM_WORKERS = 4\n",
        "BATCH_SIZE = 12\n",
        "\n",
        "transform = T.FixedPoints(2048)\n",
        "dataset = SampledModelNet(dataroot, name='10', train=True, transform=transform,\n",
        "                 pre_transform=pre_transform, pre_filter=None)\n",
        "\n",
        "collate_function = lambda datalist: SimpleBatch.from_data_list(datalist)\n",
        "train_loader = torch.utils.data.DataLoader(\n",
        "    dataset, \n",
        "    batch_size=BATCH_SIZE, \n",
        "    shuffle=True, \n",
        "    num_workers=NUM_WORKERS,  \n",
        "    collate_fn=collate_function\n",
        ")\n",
        "next(iter(train_loader))"
      ],
      "execution_count": 9,
      "outputs": [
        {
          "output_type": "execute_result",
          "data": {
            "text/plain": [
              "SimpleBatch(norm=[12, 2048, 3], pos=[12, 2048, 3], y=[12, 1])"
            ]
          },
          "metadata": {
            "tags": []
          },
          "execution_count": 9
        }
      ]
    },
    {
      "cell_type": "markdown",
      "metadata": {
        "id": "FR1oib1ajuL4",
        "colab_type": "text"
      },
      "source": [
        "If we were using a model that can handle packed data we would not need the `FixedPoints` transform at all and each object could have a different number of points."
      ]
    },
    {
      "cell_type": "code",
      "metadata": {
        "id": "t-L5aUdhjuL4",
        "colab_type": "code",
        "colab": {
          "base_uri": "https://localhost:8080/",
          "height": 34
        },
        "outputId": "c0f26e75-d66b-4a2e-9fb6-a9850523dc88"
      },
      "source": [
        "from torch_geometric.data import Batch\n",
        "\n",
        "dataset = SampledModelNet(dataroot, name='10', train=True, transform=None,\n",
        "                 pre_transform=pre_transform, pre_filter=None)\n",
        "\n",
        "collate_function = lambda datalist: Batch.from_data_list(datalist)\n",
        "train_loader = torch.utils.data.DataLoader(\n",
        "    dataset, \n",
        "    batch_size=BATCH_SIZE, \n",
        "    shuffle=True, \n",
        "    num_workers=NUM_WORKERS,  \n",
        "    collate_fn=collate_function\n",
        ")\n",
        "next(iter(train_loader))"
      ],
      "execution_count": 10,
      "outputs": [
        {
          "output_type": "execute_result",
          "data": {
            "text/plain": [
              "Batch(batch=[114398], norm=[114398, 3], pos=[114398, 3], y=[12])"
            ]
          },
          "metadata": {
            "tags": []
          },
          "execution_count": 10
        }
      ]
    },
    {
      "cell_type": "markdown",
      "metadata": {
        "id": "6UkV3L28juL9",
        "colab_type": "text"
      },
      "source": [
        "We also provide a higher level interface that builds the train and test data loaders for you based on which model you use. We use an OmegaConf config to instantiate it (or any object with a similar interface). The config must contain the arguments required by the dataset. We can also include the pre transforms, test transforms and train transforms. In our case, the config will be as follow:"
      ]
    },
    {
      "cell_type": "code",
      "metadata": {
        "id": "kmcefLM9juL-",
        "colab_type": "code",
        "colab": {}
      },
      "source": [
        "yaml_config = \"\"\"\n",
        "task: classification\n",
        "class: modelnet.ModelNetDataset\n",
        "name: modelnet\n",
        "dataroot: {}\n",
        "number: 10\n",
        "pre_transforms:\n",
        "    - transform: NormalizeScale\n",
        "    - transform: GridSampling\n",
        "      lparams: [0.02]\n",
        "train_transforms:\n",
        "    - transform: FixedPoints\n",
        "      lparams: [2048]\n",
        "    - transform: RandomNoise\n",
        "    - transform: RandomRotate\n",
        "      params:\n",
        "        degrees: 180\n",
        "        axis: 2\n",
        "    - transform: AddFeatsByKeys\n",
        "      params:\n",
        "        feat_names: [norm]\n",
        "        list_add_to_x: [True]\n",
        "        delete_feats: [True]\n",
        "test_transforms:\n",
        "    - transform: FixedPoints\n",
        "      lparams: [2048]\n",
        "    - transform: AddFeatsByKeys\n",
        "      params:\n",
        "        feat_names: [norm]\n",
        "        list_add_to_x: [True]\n",
        "        delete_feats: [True]\n",
        "\"\"\".format(os.path.join(DIR, \"data\"))\n",
        "\n",
        "from omegaconf import OmegaConf\n",
        "params = OmegaConf.create(yaml_config)"
      ],
      "execution_count": 0,
      "outputs": []
    },
    {
      "cell_type": "code",
      "metadata": {
        "id": "LkGJygG2juMD",
        "colab_type": "code",
        "colab": {
          "base_uri": "https://localhost:8080/",
          "height": 558
        },
        "outputId": "c056653a-7dc5-426d-e79e-09d02aa466df"
      },
      "source": [
        "from torch_points3d.datasets.classification.modelnet import ModelNetDataset\n",
        "dataset = ModelNetDataset(params)\n",
        "dataset"
      ],
      "execution_count": 12,
      "outputs": [
        {
          "output_type": "stream",
          "text": [
            "/usr/local/lib/python3.6/dist-packages/torch_geometric/data/dataset.py:94: UserWarning: The `pre_transform` argument differs from the one used in the pre-processed version of this dataset. If you really want to make use of another pre-processing technique, make sure to delete `data/modelnet/processed/processed` first.\n",
            "  self.processed_dir))\n"
          ],
          "name": "stderr"
        },
        {
          "output_type": "execute_result",
          "data": {
            "text/plain": [
              "Dataset: ModelNetDataset \n",
              "\u001b[0;95mpre_transform \u001b[0m= Compose([\n",
              "    NormalizeScale(),\n",
              "    GridSampling(grid_size=0.02, quantize_coords=False, mode=mean),\n",
              "    FixedPoints(2048, replace=True),\n",
              "    AddFeatsByKeys(norm=True),\n",
              "])\n",
              "\u001b[0;95mtest_transform \u001b[0m= Compose([\n",
              "    FixedPoints(2048, replace=True),\n",
              "    AddFeatsByKeys(norm=True),\n",
              "])\n",
              "\u001b[0;95mtrain_transform \u001b[0m= Compose([\n",
              "    FixedPoints(2048, replace=True),\n",
              "    RandomNoise(sigma=0.01, clip=0.05),\n",
              "    RandomRotate((-180, 180), axis=2),\n",
              "    AddFeatsByKeys(norm=True),\n",
              "])\n",
              "\u001b[0;95mval_transform \u001b[0m= None\n",
              "\u001b[0;95minference_transform \u001b[0m= Compose([\n",
              "    NormalizeScale(),\n",
              "    GridSampling(grid_size=0.02, quantize_coords=False, mode=mean),\n",
              "    FixedPoints(2048, replace=True),\n",
              "    AddFeatsByKeys(norm=True),\n",
              "])\n",
              "Size of \u001b[0;95mtrain_dataset \u001b[0m= 3991\n",
              "Size of \u001b[0;95mtest_dataset \u001b[0m= 908\n",
              "Size of \u001b[0;95mval_dataset \u001b[0m= 0\n",
              "\u001b[0;95mBatch size =\u001b[0m None"
            ]
          },
          "metadata": {
            "tags": []
          },
          "execution_count": 12
        }
      ]
    },
    {
      "cell_type": "markdown",
      "metadata": {
        "id": "Z86lKgNejuMI",
        "colab_type": "text"
      },
      "source": [
        "We can see here that the train and test transforms have been set properly. The batch size is still not set since the data loaders have not been instantiaded yet, let's do that now and we will have a dataset ready for training. We can also instantiate the tracker directly from the dataset which reduces potential risks in using the wrong metrics."
      ]
    },
    {
      "cell_type": "code",
      "metadata": {
        "id": "EfVbU3VHjuMJ",
        "colab_type": "code",
        "colab": {}
      },
      "source": [
        "dataset.create_dataloaders(\n",
        "    model, \n",
        "    batch_size=BATCH_SIZE, \n",
        "    shuffle=True, \n",
        "    num_workers=NUM_WORKERS, \n",
        "    precompute_multi_scale=False\n",
        ")"
      ],
      "execution_count": 0,
      "outputs": []
    },
    {
      "cell_type": "code",
      "metadata": {
        "id": "YC0wA65jjuMN",
        "colab_type": "code",
        "colab": {
          "base_uri": "https://localhost:8080/",
          "height": 34
        },
        "outputId": "203e270b-80e0-4715-8bac-c1342bee9709"
      },
      "source": [
        "next(iter(dataset.test_dataloaders[0]))"
      ],
      "execution_count": 17,
      "outputs": [
        {
          "output_type": "execute_result",
          "data": {
            "text/plain": [
              "SimpleBatch(pos=[12, 2048, 3], x=[12, 2048, 3], y=[12, 1])"
            ]
          },
          "metadata": {
            "tags": []
          },
          "execution_count": 17
        }
      ]
    },
    {
      "cell_type": "code",
      "metadata": {
        "id": "oD9MKKlyjuMR",
        "colab_type": "code",
        "colab": {
          "base_uri": "https://localhost:8080/",
          "height": 34
        },
        "outputId": "fd98cf86-ac94-46bc-dd65-6b89340efba0"
      },
      "source": [
        "tracker = dataset.get_tracker(False, False)\n",
        "tracker"
      ],
      "execution_count": 18,
      "outputs": [
        {
          "output_type": "execute_result",
          "data": {
            "text/plain": [
              "<torch_points3d.metrics.classification_tracker.ClassificationTracker at 0x7fd4e6c42390>"
            ]
          },
          "metadata": {
            "tags": []
          },
          "execution_count": 18
        }
      ]
    },
    {
      "cell_type": "markdown",
      "metadata": {
        "id": "Cwz7oGwLjuMV",
        "colab_type": "text"
      },
      "source": [
        "## Training!\n",
        "We can now start our training loop, we will use the Adam optimizer with a learning rate of 0.01."
      ]
    },
    {
      "cell_type": "code",
      "metadata": {
        "id": "pTV-k6t4juMW",
        "colab_type": "code",
        "colab": {}
      },
      "source": [
        "optimizer = torch.optim.Adam(model.parameters(), lr=0.01)"
      ],
      "execution_count": 0,
      "outputs": []
    },
    {
      "cell_type": "code",
      "metadata": {
        "id": "7Uso46P7juMa",
        "colab_type": "code",
        "colab": {}
      },
      "source": [
        "from torch_points3d.metrics.colored_tqdm import Coloredtqdm as Ctq\n",
        "import time\n",
        "\n",
        "def train_epoch(device):\n",
        "    model.to(device)\n",
        "    model.train()\n",
        "    tracker.reset(\"train\")\n",
        "    train_loader = dataset.train_dataloader\n",
        "    iter_data_time = time.time()\n",
        "    with Ctq(train_loader) as tq_train_loader:\n",
        "        for i, data in enumerate(tq_train_loader):\n",
        "            t_data = time.time() - iter_data_time\n",
        "            iter_start_time = time.time()\n",
        "            optimizer.zero_grad()\n",
        "            data.to(device)\n",
        "            model.forward(data)\n",
        "            model.backward()\n",
        "            optimizer.step()\n",
        "            \n",
        "            tracker.track(model)\n",
        "\n",
        "            tq_train_loader.set_postfix(\n",
        "                **tracker.get_metrics(),\n",
        "                data_loading=float(t_data),\n",
        "                iteration=float(time.time() - iter_start_time),\n",
        "            )\n",
        "            iter_data_time = time.time()"
      ],
      "execution_count": 0,
      "outputs": []
    },
    {
      "cell_type": "code",
      "metadata": {
        "id": "mfuxvTRbjuMe",
        "colab_type": "code",
        "colab": {
          "base_uri": "https://localhost:8080/",
          "height": 348
        },
        "outputId": "b2503714-808b-48cd-ae9e-9d582058ef9c"
      },
      "source": [
        "train_epoch('cuda')"
      ],
      "execution_count": 27,
      "outputs": [
        {
          "output_type": "stream",
          "text": [
            " 44%|████▍     | 148/333 [01:13<01:31,  2.02it/s, data_loading=0.004, iteration=0.472, train_acc=79.56, train_loss_class=0.689]\n"
          ],
          "name": "stderr"
        },
        {
          "output_type": "error",
          "ename": "KeyboardInterrupt",
          "evalue": "ignored",
          "traceback": [
            "\u001b[0;31m---------------------------------------------------------------------------\u001b[0m",
            "\u001b[0;31mKeyboardInterrupt\u001b[0m                         Traceback (most recent call last)",
            "\u001b[0;32m<ipython-input-27-6467119e5a6d>\u001b[0m in \u001b[0;36m<module>\u001b[0;34m()\u001b[0m\n\u001b[0;32m----> 1\u001b[0;31m \u001b[0mtrain_epoch\u001b[0m\u001b[0;34m(\u001b[0m\u001b[0;34m'cuda'\u001b[0m\u001b[0;34m)\u001b[0m\u001b[0;34m\u001b[0m\u001b[0;34m\u001b[0m\u001b[0m\n\u001b[0m",
            "\u001b[0;32m<ipython-input-25-a2902e6bbd56>\u001b[0m in \u001b[0;36mtrain_epoch\u001b[0;34m(device)\u001b[0m\n\u001b[1;32m     15\u001b[0m             \u001b[0mdata\u001b[0m\u001b[0;34m.\u001b[0m\u001b[0mto\u001b[0m\u001b[0;34m(\u001b[0m\u001b[0mdevice\u001b[0m\u001b[0;34m)\u001b[0m\u001b[0;34m\u001b[0m\u001b[0;34m\u001b[0m\u001b[0m\n\u001b[1;32m     16\u001b[0m             \u001b[0mmodel\u001b[0m\u001b[0;34m.\u001b[0m\u001b[0mforward\u001b[0m\u001b[0;34m(\u001b[0m\u001b[0mdata\u001b[0m\u001b[0;34m)\u001b[0m\u001b[0;34m\u001b[0m\u001b[0;34m\u001b[0m\u001b[0m\n\u001b[0;32m---> 17\u001b[0;31m             \u001b[0mmodel\u001b[0m\u001b[0;34m.\u001b[0m\u001b[0mbackward\u001b[0m\u001b[0;34m(\u001b[0m\u001b[0;34m)\u001b[0m\u001b[0;34m\u001b[0m\u001b[0;34m\u001b[0m\u001b[0m\n\u001b[0m\u001b[1;32m     18\u001b[0m             \u001b[0moptimizer\u001b[0m\u001b[0;34m.\u001b[0m\u001b[0mstep\u001b[0m\u001b[0;34m(\u001b[0m\u001b[0;34m)\u001b[0m\u001b[0;34m\u001b[0m\u001b[0;34m\u001b[0m\u001b[0m\n\u001b[1;32m     19\u001b[0m \u001b[0;34m\u001b[0m\u001b[0m\n",
            "\u001b[0;32m<ipython-input-14-17a01843eddd>\u001b[0m in \u001b[0;36mbackward\u001b[0;34m(self)\u001b[0m\n\u001b[1;32m     30\u001b[0m \u001b[0;34m\u001b[0m\u001b[0m\n\u001b[1;32m     31\u001b[0m     \u001b[0;32mdef\u001b[0m \u001b[0mbackward\u001b[0m\u001b[0;34m(\u001b[0m\u001b[0mself\u001b[0m\u001b[0;34m)\u001b[0m\u001b[0;34m:\u001b[0m\u001b[0;34m\u001b[0m\u001b[0;34m\u001b[0m\u001b[0m\n\u001b[0;32m---> 32\u001b[0;31m          \u001b[0mself\u001b[0m\u001b[0;34m.\u001b[0m\u001b[0mloss_class\u001b[0m\u001b[0;34m.\u001b[0m\u001b[0mbackward\u001b[0m\u001b[0;34m(\u001b[0m\u001b[0;34m)\u001b[0m\u001b[0;34m\u001b[0m\u001b[0;34m\u001b[0m\u001b[0m\n\u001b[0m\u001b[1;32m     33\u001b[0m \u001b[0;34m\u001b[0m\u001b[0m\n",
            "\u001b[0;32m/usr/local/lib/python3.6/dist-packages/torch/tensor.py\u001b[0m in \u001b[0;36mbackward\u001b[0;34m(self, gradient, retain_graph, create_graph)\u001b[0m\n\u001b[1;32m    164\u001b[0m                 \u001b[0mproducts\u001b[0m\u001b[0;34m.\u001b[0m \u001b[0mDefaults\u001b[0m \u001b[0mto\u001b[0m\u001b[0;31m \u001b[0m\u001b[0;31m`\u001b[0m\u001b[0;31m`\u001b[0m\u001b[0;32mFalse\u001b[0m\u001b[0;31m`\u001b[0m\u001b[0;31m`\u001b[0m\u001b[0;34m.\u001b[0m\u001b[0;34m\u001b[0m\u001b[0;34m\u001b[0m\u001b[0m\n\u001b[1;32m    165\u001b[0m         \"\"\"\n\u001b[0;32m--> 166\u001b[0;31m         \u001b[0mtorch\u001b[0m\u001b[0;34m.\u001b[0m\u001b[0mautograd\u001b[0m\u001b[0;34m.\u001b[0m\u001b[0mbackward\u001b[0m\u001b[0;34m(\u001b[0m\u001b[0mself\u001b[0m\u001b[0;34m,\u001b[0m \u001b[0mgradient\u001b[0m\u001b[0;34m,\u001b[0m \u001b[0mretain_graph\u001b[0m\u001b[0;34m,\u001b[0m \u001b[0mcreate_graph\u001b[0m\u001b[0;34m)\u001b[0m\u001b[0;34m\u001b[0m\u001b[0;34m\u001b[0m\u001b[0m\n\u001b[0m\u001b[1;32m    167\u001b[0m \u001b[0;34m\u001b[0m\u001b[0m\n\u001b[1;32m    168\u001b[0m     \u001b[0;32mdef\u001b[0m \u001b[0mregister_hook\u001b[0m\u001b[0;34m(\u001b[0m\u001b[0mself\u001b[0m\u001b[0;34m,\u001b[0m \u001b[0mhook\u001b[0m\u001b[0;34m)\u001b[0m\u001b[0;34m:\u001b[0m\u001b[0;34m\u001b[0m\u001b[0;34m\u001b[0m\u001b[0m\n",
            "\u001b[0;32m/usr/local/lib/python3.6/dist-packages/torch/autograd/__init__.py\u001b[0m in \u001b[0;36mbackward\u001b[0;34m(tensors, grad_tensors, retain_graph, create_graph, grad_variables)\u001b[0m\n\u001b[1;32m     97\u001b[0m     Variable._execution_engine.run_backward(\n\u001b[1;32m     98\u001b[0m         \u001b[0mtensors\u001b[0m\u001b[0;34m,\u001b[0m \u001b[0mgrad_tensors\u001b[0m\u001b[0;34m,\u001b[0m \u001b[0mretain_graph\u001b[0m\u001b[0;34m,\u001b[0m \u001b[0mcreate_graph\u001b[0m\u001b[0;34m,\u001b[0m\u001b[0;34m\u001b[0m\u001b[0;34m\u001b[0m\u001b[0m\n\u001b[0;32m---> 99\u001b[0;31m         allow_unreachable=True)  # allow_unreachable flag\n\u001b[0m\u001b[1;32m    100\u001b[0m \u001b[0;34m\u001b[0m\u001b[0m\n\u001b[1;32m    101\u001b[0m \u001b[0;34m\u001b[0m\u001b[0m\n",
            "\u001b[0;31mKeyboardInterrupt\u001b[0m: "
          ]
        }
      ]
    }
  ]
}