{
  "nbformat": 4,
  "nbformat_minor": 0,
  "metadata": {
    "kernelspec": {
      "display_name": "Python 3",
      "language": "python",
      "name": "python3"
    },
    "language_info": {
      "codemirror_mode": {
        "name": "ipython",
        "version": 3
      },
      "file_extension": ".py",
      "mimetype": "text/x-python",
      "name": "python",
      "nbconvert_exporter": "python",
      "pygments_lexer": "ipython3",
      "version": "3.6.9"
    },
    "colab": {
      "name": "ObjectClassificationRSConv.ipynb",
      "provenance": [],
      "machine_shape": "hm",
      "include_colab_link": true
    },
    "accelerator": "GPU"
  },
  "cells": [
    {
      "cell_type": "markdown",
      "metadata": {
        "id": "view-in-github",
        "colab_type": "text"
      },
      "source": [
        "<a href=\"https://colab.research.google.com/github/nicolas-chaulet/torch-points3d/blob/modelnettuto/notebooks/ObjectClassificationRSConv.ipynb\" target=\"_parent\"><img src=\"https://colab.research.google.com/assets/colab-badge.svg\" alt=\"Open In Colab\"/></a>"
      ]
    },
    {
      "cell_type": "code",
      "metadata": {
        "id": "FFL6wvW8jvjO",
        "colab_type": "code",
        "colab": {}
      },
      "source": [
        "# Setup packages\n",
        "!pip install torch==1.3.1 pyvista torchvision==0.4.2\n",
        "!pip install --upgrade jsonschema\n",
        "!pip install torch-points3d\n",
        "!apt-get install -qq xvfb libgl1-mesa-glx"
      ],
      "execution_count": 0,
      "outputs": []
    },
    {
      "cell_type": "code",
      "metadata": {
        "id": "Yrg4vto4qewE",
        "colab_type": "code",
        "colab": {}
      },
      "source": [
        "# Needed for remote rendering \n",
        "!export DISPLAY=:99.0\n",
        "!export PYVISTA_OFF_SCREEN=true\n",
        "!export PYVISTA_PLOT_THEME=document\n",
        "!export PYVISTA_USE_PANEL=true\n",
        "!export PYVISTA_AUTO_CLOSE=false\n",
        "!Xvfb :99 -screen 0 1024x768x24 > /dev/null 2>&1 &"
      ],
      "execution_count": 0,
      "outputs": []
    },
    {
      "cell_type": "code",
      "metadata": {
        "id": "8_eOTvwjjuK4",
        "colab_type": "code",
        "colab": {}
      },
      "source": [
        "import os\n",
        "import sys\n",
        "from omegaconf import OmegaConf\n",
        "import pyvista as pv\n",
        "import torch"
      ],
      "execution_count": 0,
      "outputs": []
    },
    {
      "cell_type": "code",
      "metadata": {
        "id": "k14-WHdzDcvu",
        "colab_type": "code",
        "colab": {}
      },
      "source": [
        "DIR = \"\" # Replace with your root directory, the data will go in DIR/data."
      ],
      "execution_count": 0,
      "outputs": []
    },
    {
      "cell_type": "markdown",
      "metadata": {
        "id": "0sS0YEUXjuLO",
        "colab_type": "text"
      },
      "source": [
        "<p align=\"center\">\n",
        "  <img width=\"40%\" src=\"https://raw.githubusercontent.com/nicolas-chaulet/torch-points3d/master/docs/logo.png\" />\n",
        "</p>\n"
      ]
    },
    {
      "cell_type": "markdown",
      "metadata": {
        "id": "F1cLXfkkjuLP",
        "colab_type": "text"
      },
      "source": [
        "# Classifiying objects with Relation-Shape CNN\n",
        "This notebook explains how Torch Points3D can be used to solve an object classification task. We will use [ModelNet](https://modelnet.cs.princeton.edu/) as our dataset and [Relation-Shape CNN](https://github.com/Yochengliu/Relation-Shape-CNN) as our model architecture. The dataset contains CAD models of objects that belong to 40 different categories and the task is to retrieve the category of the object from its point cloud representation. There is also a smaller version well suited for quick testing that contains only 10 classes. The notebook covers the following aspects of Torch Points3D:\n",
        "\n",
        "1. Create a dataset with a data augmentation pipeline\n",
        "2. Instantiate a pre configured model\n",
        "3. Setup the data loaders\n",
        "4. Run a training\n"
      ]
    },
    {
      "cell_type": "code",
      "metadata": {
        "id": "7O3JPuIQExZJ",
        "colab_type": "code",
        "colab": {},
        "cellView": "form"
      },
      "source": [
        "#@title Choose ModelNet version {run: \"auto\"}\n",
        "MODELNET_VERSION=\"40\" #@param [\"10\", \"40\"]"
      ],
      "execution_count": 0,
      "outputs": []
    },
    {
      "cell_type": "markdown",
      "metadata": {
        "id": "EwOtGLfijuLR",
        "colab_type": "text"
      },
      "source": [
        "## The dataset\n",
        "We will use Torch Points3D to download and create the dataset. It automatically downloads a pre sampled version of ModelNet (with 10,000 points per object) and the data will be stored under the `ROOT/data/modelnet` directory. Creating the raw dataset is as simple as:"
      ]
    },
    {
      "cell_type": "code",
      "metadata": {
        "id": "P4iIhBJAjuLT",
        "colab_type": "code",
        "colab": {
          "base_uri": "https://localhost:8080/",
          "height": 69
        },
        "outputId": "1a1bab67-86d6-4629-90bb-7df382e501b6"
      },
      "source": [
        "from torch_points3d.datasets.classification.modelnet import SampledModelNet\n",
        "import torch_points3d.core.data_transform as T3D\n",
        "import torch_geometric.transforms as T\n",
        "\n",
        "dataroot = os.path.join(DIR, \"data/modelnet\")\n",
        "pre_transform = T.Compose([T.NormalizeScale(), T3D.GridSampling(0.02)])\n",
        "dataset = SampledModelNet(dataroot, name=MODELNET_VERSION, train=True, transform=None,\n",
        "                 pre_transform=pre_transform, pre_filter=None)\n",
        "dataset[0]"
      ],
      "execution_count": 33,
      "outputs": [
        {
          "output_type": "stream",
          "text": [
            "Processing...\n",
            "Done!\n"
          ],
          "name": "stdout"
        },
        {
          "output_type": "execute_result",
          "data": {
            "text/plain": [
              "Data(norm=[5672, 3], pos=[5672, 3], y=[1])"
            ]
          },
          "metadata": {
            "tags": []
          },
          "execution_count": 33
        }
      ]
    },
    {
      "cell_type": "markdown",
      "metadata": {
        "id": "F0cY35y1juLZ",
        "colab_type": "text"
      },
      "source": [
        "Each sample is a CAD model of an object (bathtub, toilet, bed, etc...), the `pos` attribute contains the coordinates of points sampled on each face of the mesh while `norm` contains the normal vector. You will notice that we have applied two pre transforms to our dataset:\n",
        "\n",
        "- `NormalizeScale` normalises the scale of each object\n",
        "- `GridSampling` does a voxel downsizing of each point cloud with a resolution of 0.02 (in normalized scale). This ensures that we don't have really dense areas.\n",
        "\n",
        "Let's visualise some of those examples before going any further.\n"
      ]
    },
    {
      "cell_type": "code",
      "metadata": {
        "id": "OsFH72B9juLa",
        "colab_type": "code",
        "colab": {
          "base_uri": "https://localhost:8080/",
          "height": 449
        },
        "cellView": "form",
        "outputId": "3963c6cd-82e9-4f06-c4ed-2ffc1f4b208f"
      },
      "source": [
        "#@title Plot samples { run: \"auto\" }\n",
        "objectid_1 = 109 #@param {type:\"integer\"}\n",
        "objectid_2 = 998 #@param {type:\"integer\"}\n",
        "objectid_3 = 2002 #@param {type:\"integer\"}\n",
        "\n",
        "samples = [objectid_1,objectid_2,objectid_3]\n",
        "p = pv.Plotter(notebook=True,shape=(1, len(samples)),window_size=[1024,412])\n",
        "for i in range(len(samples)):\n",
        "    p.subplot(0, i)\n",
        "    sample = dataset[samples[i]].pos.numpy()\n",
        "    point_cloud = pv.PolyData(sample)\n",
        "    point_cloud['y'] = sample[:,1]\n",
        "    p.add_points(point_cloud)\n",
        "    p.camera_position = [-1,5, -10]\n",
        "p.show()"
      ],
      "execution_count": 40,
      "outputs": [
        {
          "output_type": "display_data",
          "data": {
            "image/png": "[encoded data removed]",
            "text/plain": [
              "<PIL.Image.Image image mode=RGB size=1024x412 at 0x7F5779F5A9B0>"
            ]
          },
          "metadata": {
            "tags": []
          }
        }
      ]
    },
    {
      "cell_type": "markdown",
      "metadata": {
        "id": "FYE0OSUhjuLg",
        "colab_type": "text"
      },
      "source": [
        "## Building a model\n",
        "As mentioned in the introduction we will use Relation-Shape CNN as our backbone architecture for the model classifier. Let's build our model by using Torch Points3D API (you can ignore the error, it comes from a third party library and all works just fine). We will use the normal vector as an input feature, therefore we will set the number of input channels (`input_nc`) to 3."
      ]
    },
    {
      "cell_type": "code",
      "metadata": {
        "id": "dWvt8XsojuLi",
        "colab_type": "code",
        "colab": {
          "base_uri": "https://localhost:8080/",
          "height": 72
        },
        "outputId": "c64c561b-8839-4300-88a8-cc2879c10987"
      },
      "source": [
        "from torch_points3d.applications.rsconv import RSConv"
      ],
      "execution_count": 41,
      "outputs": [
        {
          "output_type": "stream",
          "text": [
            "ERROR:root:The testing module requires faiss. You can install the GPU version with the command 'conda install faiss-gpu -c pytorch' \n",
            "                        or the CPU version with 'conda install faiss-cpu -c pytorch'. Learn more at https://github.com/facebookresearch/faiss/blob/master/INSTALL.md\n"
          ],
          "name": "stderr"
        }
      ]
    },
    {
      "cell_type": "code",
      "metadata": {
        "id": "ffGE6xUNjuLo",
        "colab_type": "code",
        "colab": {}
      },
      "source": [
        "class RSConvCLassifier(torch.nn.Module):\n",
        "    def __init__(self):\n",
        "        super().__init__() \n",
        "        self.encoder = RSConv(\"encoder\", input_nc=3,output_nc = int(MODELNET_VERSION), num_layers=4)\n",
        "        self.log_softmax = torch.nn.LogSoftmax(dim=-1)\n",
        "    \n",
        "    @property\n",
        "    def conv_type(self):\n",
        "        \"\"\" This is needed by the dataset to infer which batch collate should be used\"\"\"\n",
        "        return self.encoder.conv_type\n",
        "    \n",
        "    def get_output(self):\n",
        "        \"\"\" This is needed by the tracker to get access to the ouputs of the network\"\"\"\n",
        "        return self.output\n",
        "    \n",
        "    def get_labels(self):\n",
        "        \"\"\" Needed by the tracker in order to access ground truth labels\"\"\"\n",
        "        return self.labels\n",
        "    \n",
        "    def get_current_losses(self):\n",
        "        \"\"\" Entry point for the tracker to grab the loss \"\"\"\n",
        "        return {\"loss_class\": float(self.loss_class)}\n",
        "    \n",
        "    def forward(self, data):\n",
        "        # Set labels for the tracker\n",
        "        self.labels = data.y.squeeze()\n",
        "\n",
        "        # Forward through the network\n",
        "        data_out = self.encoder(data)\n",
        "        self.output = self.log_softmax(data_out.x.squeeze())\n",
        "\n",
        "        # Set loss for the backward pass\n",
        "        self.loss_class = torch.nn.functional.nll_loss(self.output, self.labels)\n",
        "    \n",
        "    def backward(self):\n",
        "         self.loss_class.backward()    \n",
        "        "
      ],
      "execution_count": 0,
      "outputs": []
    },
    {
      "cell_type": "code",
      "metadata": {
        "id": "r-C7fltXjuLt",
        "colab_type": "code",
        "colab": {
          "base_uri": "https://localhost:8080/",
          "height": 54
        },
        "outputId": "775e9a3a-2635-419d-9ffe-eaa6d5ad0a29"
      },
      "source": [
        "model = RSConvCLassifier()"
      ],
      "execution_count": 43,
      "outputs": [
        {
          "output_type": "stream",
          "text": [
            "WARNING:torch_points3d.modules.RSConv.dense:The down_conv_nn has a different size as radii. Make sure of have SharedRSConv\n"
          ],
          "name": "stderr"
        }
      ]
    },
    {
      "cell_type": "markdown",
      "metadata": {
        "id": "S30iNr4TjuLx",
        "colab_type": "text"
      },
      "source": [
        "## Setting up the data loaders\n",
        "In this section, we will first build  a data loader using basic building blocks, and then we will see how one can use our dataset wrapper to assemble a dataset ready for training with its test and train data loader configured.\n",
        "\n",
        "Let's start with a vanillia data loader. There are two ways to assemble batches depending on the model that is used. In that case we will want dense batches where samples are concatenated along the first dimension, just like for batches of images. It is very important to ensure that each sample has got the same number of points, this can be achieved by applying a `FixedPoints` transform to the dataset. here we will use 2048 points per object."
      ]
    },
    {
      "cell_type": "code",
      "metadata": {
        "id": "UMKyO1qPjuLy",
        "colab_type": "code",
        "colab": {
          "base_uri": "https://localhost:8080/",
          "height": 34
        },
        "outputId": "0b6301b6-e02b-4567-c4ba-bc1e41a14f63"
      },
      "source": [
        "from torch_points3d.datasets.batch import SimpleBatch\n",
        "NUM_WORKERS = 4\n",
        "BATCH_SIZE = 12\n",
        "\n",
        "transform = T.FixedPoints(2048)\n",
        "dataset = SampledModelNet(dataroot, name=MODELNET_VERSION, train=True, transform=transform,\n",
        "                 pre_transform=pre_transform, pre_filter=None)\n",
        "\n",
        "collate_function = lambda datalist: SimpleBatch.from_data_list(datalist)\n",
        "train_loader = torch.utils.data.DataLoader(\n",
        "    dataset, \n",
        "    batch_size=BATCH_SIZE, \n",
        "    shuffle=True, \n",
        "    num_workers=NUM_WORKERS,  \n",
        "    collate_fn=collate_function\n",
        ")\n",
        "next(iter(train_loader))"
      ],
      "execution_count": 44,
      "outputs": [
        {
          "output_type": "execute_result",
          "data": {
            "text/plain": [
              "SimpleBatch(norm=[12, 2048, 3], pos=[12, 2048, 3], y=[12, 1])"
            ]
          },
          "metadata": {
            "tags": []
          },
          "execution_count": 44
        }
      ]
    },
    {
      "cell_type": "markdown",
      "metadata": {
        "id": "FR1oib1ajuL4",
        "colab_type": "text"
      },
      "source": [
        "If we were using a model that can handle packed data we would not need the `FixedPoints` transform at all and each object could have a different number of points."
      ]
    },
    {
      "cell_type": "code",
      "metadata": {
        "id": "t-L5aUdhjuL4",
        "colab_type": "code",
        "colab": {
          "base_uri": "https://localhost:8080/",
          "height": 34
        },
        "outputId": "024a2e9b-1879-4e35-ae21-1c0787aca9e7"
      },
      "source": [
        "from torch_geometric.data import Batch\n",
        "\n",
        "dataset = SampledModelNet(dataroot, name=MODELNET_VERSION, train=True, transform=None,\n",
        "                 pre_transform=pre_transform, pre_filter=None)\n",
        "\n",
        "collate_function = lambda datalist: Batch.from_data_list(datalist)\n",
        "train_loader = torch.utils.data.DataLoader(\n",
        "    dataset, \n",
        "    batch_size=BATCH_SIZE, \n",
        "    shuffle=True, \n",
        "    num_workers=NUM_WORKERS,  \n",
        "    collate_fn=collate_function\n",
        ")\n",
        "next(iter(train_loader))"
      ],
      "execution_count": 45,
      "outputs": [
        {
          "output_type": "execute_result",
          "data": {
            "text/plain": [
              "Batch(batch=[75663], norm=[75663, 3], pos=[75663, 3], y=[12])"
            ]
          },
          "metadata": {
            "tags": []
          },
          "execution_count": 45
        }
      ]
    },
    {
      "cell_type": "markdown",
      "metadata": {
        "id": "6UkV3L28juL9",
        "colab_type": "text"
      },
      "source": [
        "We also provide a higher level interface that builds the train and test data loaders for you based on which model you use. We use an OmegaConf config to instantiate it (or any object with a similar interface). The config must contain the arguments required by the dataset. We can also include the pre transforms, test transforms and train transforms. The transform pipeline will look like this:\n",
        "\n",
        "1. Sample a fixed number of points\n",
        "2. Add random noise to the positions\n",
        "3. Randomly rotate the point cloud around the z axis\n",
        "4. Add the normal vector to the features getting into the network\n",
        "\n",
        "The config will be as follow:"
      ]
    },
    {
      "cell_type": "code",
      "metadata": {
        "id": "kmcefLM9juL-",
        "colab_type": "code",
        "colab": {}
      },
      "source": [
        "yaml_config = \"\"\"\n",
        "task: classification\n",
        "class: modelnet.ModelNetDataset\n",
        "name: modelnet\n",
        "dataroot: {}\n",
        "number: {}\n",
        "pre_transforms:\n",
        "    - transform: NormalizeScale\n",
        "    - transform: GridSampling\n",
        "      lparams: [0.02]\n",
        "train_transforms:\n",
        "    - transform: FixedPoints\n",
        "      lparams: [2048]\n",
        "    - transform: RandomNoise\n",
        "    - transform: RandomRotate\n",
        "      params:\n",
        "        degrees: 180\n",
        "        axis: 2\n",
        "    - transform: AddFeatsByKeys\n",
        "      params:\n",
        "        feat_names: [norm]\n",
        "        list_add_to_x: [True]\n",
        "        delete_feats: [True]\n",
        "test_transforms:\n",
        "    - transform: FixedPoints\n",
        "      lparams: [2048]\n",
        "    - transform: AddFeatsByKeys\n",
        "      params:\n",
        "        feat_names: [norm]\n",
        "        list_add_to_x: [True]\n",
        "        delete_feats: [True]\n",
        "\"\"\".format(os.path.join(DIR, \"data\"),MODELNET_VERSION)\n",
        "\n",
        "from omegaconf import OmegaConf\n",
        "params = OmegaConf.create(yaml_config)"
      ],
      "execution_count": 0,
      "outputs": []
    },
    {
      "cell_type": "code",
      "metadata": {
        "id": "LkGJygG2juMD",
        "colab_type": "code",
        "colab": {
          "base_uri": "https://localhost:8080/",
          "height": 558
        },
        "outputId": "d9bb5725-1b05-4a77-cd7b-384852fb8773"
      },
      "source": [
        "from torch_points3d.datasets.classification.modelnet import ModelNetDataset\n",
        "dataset = ModelNetDataset(params)\n",
        "dataset"
      ],
      "execution_count": 48,
      "outputs": [
        {
          "output_type": "stream",
          "text": [
            "/usr/local/lib/python3.6/dist-packages/torch_geometric/data/dataset.py:94: UserWarning: The `pre_transform` argument differs from the one used in the pre-processed version of this dataset. If you really want to make use of another pre-processing technique, make sure to delete `data/modelnet/processed/processed` first.\n",
            "  self.processed_dir))\n"
          ],
          "name": "stderr"
        },
        {
          "output_type": "execute_result",
          "data": {
            "text/plain": [
              "Dataset: ModelNetDataset \n",
              "\u001b[0;95mpre_transform \u001b[0m= Compose([\n",
              "    NormalizeScale(),\n",
              "    GridSampling(grid_size=0.02, quantize_coords=False, mode=mean),\n",
              "    FixedPoints(2048, replace=True),\n",
              "    AddFeatsByKeys(norm=True),\n",
              "])\n",
              "\u001b[0;95mtest_transform \u001b[0m= Compose([\n",
              "    FixedPoints(2048, replace=True),\n",
              "    AddFeatsByKeys(norm=True),\n",
              "])\n",
              "\u001b[0;95mtrain_transform \u001b[0m= Compose([\n",
              "    FixedPoints(2048, replace=True),\n",
              "    RandomNoise(sigma=0.01, clip=0.05),\n",
              "    RandomRotate((-180, 180), axis=2),\n",
              "    AddFeatsByKeys(norm=True),\n",
              "])\n",
              "\u001b[0;95mval_transform \u001b[0m= None\n",
              "\u001b[0;95minference_transform \u001b[0m= Compose([\n",
              "    NormalizeScale(),\n",
              "    GridSampling(grid_size=0.02, quantize_coords=False, mode=mean),\n",
              "    FixedPoints(2048, replace=True),\n",
              "    AddFeatsByKeys(norm=True),\n",
              "])\n",
              "Size of \u001b[0;95mtrain_dataset \u001b[0m= 9843\n",
              "Size of \u001b[0;95mtest_dataset \u001b[0m= 2468\n",
              "Size of \u001b[0;95mval_dataset \u001b[0m= 0\n",
              "\u001b[0;95mBatch size =\u001b[0m None"
            ]
          },
          "metadata": {
            "tags": []
          },
          "execution_count": 48
        }
      ]
    },
    {
      "cell_type": "markdown",
      "metadata": {
        "id": "Z86lKgNejuMI",
        "colab_type": "text"
      },
      "source": [
        "We can see here that the train and test transforms have been set properly. The batch size is still not set since the data loaders have not been instantiaded yet, let's do that now and we will have a dataset ready for training. We can also instantiate the tracker directly from the dataset which reduces potential risks in using the wrong metrics."
      ]
    },
    {
      "cell_type": "code",
      "metadata": {
        "id": "EfVbU3VHjuMJ",
        "colab_type": "code",
        "colab": {}
      },
      "source": [
        "dataset.create_dataloaders(\n",
        "    model, \n",
        "    batch_size=BATCH_SIZE, \n",
        "    shuffle=True, \n",
        "    num_workers=NUM_WORKERS, \n",
        "    precompute_multi_scale=False\n",
        ")"
      ],
      "execution_count": 0,
      "outputs": []
    },
    {
      "cell_type": "code",
      "metadata": {
        "id": "YC0wA65jjuMN",
        "colab_type": "code",
        "colab": {
          "base_uri": "https://localhost:8080/",
          "height": 34
        },
        "outputId": "d2ab0bc8-117b-4cc1-9963-aadc6ceba030"
      },
      "source": [
        "next(iter(dataset.test_dataloaders[0]))"
      ],
      "execution_count": 50,
      "outputs": [
        {
          "output_type": "execute_result",
          "data": {
            "text/plain": [
              "SimpleBatch(pos=[12, 2048, 3], x=[12, 2048, 3], y=[12, 1])"
            ]
          },
          "metadata": {
            "tags": []
          },
          "execution_count": 50
        }
      ]
    },
    {
      "cell_type": "code",
      "metadata": {
        "id": "oD9MKKlyjuMR",
        "colab_type": "code",
        "colab": {
          "base_uri": "https://localhost:8080/",
          "height": 34
        },
        "outputId": "d5e583bc-134d-43c1-e467-179b7a27d816"
      },
      "source": [
        "tracker = dataset.get_tracker(False, True)\n",
        "tracker"
      ],
      "execution_count": 51,
      "outputs": [
        {
          "output_type": "execute_result",
          "data": {
            "text/plain": [
              "<torch_points3d.metrics.classification_tracker.ClassificationTracker at 0x7f5779ef8940>"
            ]
          },
          "metadata": {
            "tags": []
          },
          "execution_count": 51
        }
      ]
    },
    {
      "cell_type": "markdown",
      "metadata": {
        "id": "Cwz7oGwLjuMV",
        "colab_type": "text"
      },
      "source": [
        "## Training!\n",
        "We can now start our training loop, we will use the Adam optimizer with a learning rate of 0.01."
      ]
    },
    {
      "cell_type": "code",
      "metadata": {
        "id": "pTV-k6t4juMW",
        "colab_type": "code",
        "colab": {}
      },
      "source": [
        "optimizer = torch.optim.Adam(model.parameters(), lr=0.01)"
      ],
      "execution_count": 0,
      "outputs": []
    },
    {
      "cell_type": "code",
      "metadata": {
        "id": "7Uso46P7juMa",
        "colab_type": "code",
        "colab": {}
      },
      "source": [
        "from torch_points3d.metrics.colored_tqdm import Coloredtqdm as Ctq\n",
        "import time\n",
        "\n",
        "def train_epoch(device):\n",
        "    model.to(device)\n",
        "    model.train()\n",
        "    tracker.reset(\"train\")\n",
        "    train_loader = dataset.train_dataloader\n",
        "    iter_data_time = time.time()\n",
        "    with Ctq(train_loader) as tq_train_loader:\n",
        "        for i, data in enumerate(tq_train_loader):\n",
        "            t_data = time.time() - iter_data_time\n",
        "            iter_start_time = time.time()\n",
        "            optimizer.zero_grad()\n",
        "            data.to(device)\n",
        "            model.forward(data)\n",
        "            model.backward()\n",
        "            optimizer.step()\n",
        "            if i % 10 == 0:\n",
        "                tracker.track(model)\n",
        "\n",
        "            tq_train_loader.set_postfix(\n",
        "                **tracker.get_metrics(),\n",
        "                data_loading=float(t_data),\n",
        "                iteration=float(time.time() - iter_start_time),\n",
        "            )\n",
        "            iter_data_time = time.time()\n",
        "\n",
        "def test_epoch(device):\n",
        "    model.to(device)\n",
        "    model.eval()\n",
        "    tracker.reset(\"test\")\n",
        "    test_loader = dataset.test_dataloaders[0]\n",
        "    iter_data_time = time.time()\n",
        "    with Ctq(test_loader) as tq_test_loader:\n",
        "        for i, data in enumerate(tq_test_loader):\n",
        "            t_data = time.time() - iter_data_time\n",
        "            iter_start_time = time.time()\n",
        "            data.to(device)\n",
        "            model.forward(data)           \n",
        "            tracker.track(model)\n",
        "\n",
        "            tq_test_loader.set_postfix(\n",
        "                **tracker.get_metrics(),\n",
        "                data_loading=float(t_data),\n",
        "                iteration=float(time.time() - iter_start_time),\n",
        "            )\n",
        "            iter_data_time = time.time()"
      ],
      "execution_count": 0,
      "outputs": []
    },
    {
      "cell_type": "code",
      "metadata": {
        "id": "mfuxvTRbjuMe",
        "colab_type": "code",
        "colab": {
          "base_uri": "https://localhost:8080/",
          "height": 1000
        },
        "outputId": "c500f237-c4e6-42f4-ca40-126b6611e259"
      },
      "source": [
        "EPOCHS = 50\n",
        "for i in range(50):\n",
        "  print(\"=========== EPOCH %i ===========\" % i)\n",
        "  time.sleep(0.5)\n",
        "  train_epoch('cuda')\n",
        "  test_epoch('cuda')"
      ],
      "execution_count": 0,
      "outputs": [
        {
          "output_type": "stream",
          "text": [
            "=========== EPOCH 0 ===========\n"
          ],
          "name": "stdout"
        },
        {
          "output_type": "stream",
          "text": [
            "100%|██████████| 821/821 [06:04<00:00,  2.25it/s, data_loading=0.004, iteration=0.211, train_acc=44.87, train_loss_class=2.253]\n",
            "100%|██████████| 206/206 [00:34<00:00,  5.96it/s, data_loading=0.004, iteration=0.113, test_acc=57.98, test_loss_class=1.627]\n"
          ],
          "name": "stderr"
        },
        {
          "output_type": "stream",
          "text": [
            "=========== EPOCH 1 ===========\n"
          ],
          "name": "stdout"
        },
        {
          "output_type": "stream",
          "text": [
            "100%|██████████| 821/821 [06:03<00:00,  2.26it/s, data_loading=0.004, iteration=0.211, train_acc=60.04, train_loss_class=1.484]\n",
            "100%|██████████| 206/206 [00:34<00:00,  5.91it/s, data_loading=0.003, iteration=0.117, test_acc=64.96, test_loss_class=1.287]\n"
          ],
          "name": "stderr"
        },
        {
          "output_type": "stream",
          "text": [
            "=========== EPOCH 2 ===========\n"
          ],
          "name": "stdout"
        },
        {
          "output_type": "stream",
          "text": [
            "100%|██████████| 821/821 [06:03<00:00,  2.26it/s, data_loading=0.005, iteration=0.210, train_acc=63.25, train_loss_class=1.247]\n",
            "100%|██████████| 206/206 [00:34<00:00,  6.01it/s, data_loading=0.004, iteration=0.112, test_acc=75.58, test_loss_class=0.844]\n"
          ],
          "name": "stderr"
        },
        {
          "output_type": "stream",
          "text": [
            "=========== EPOCH 3 ===========\n"
          ],
          "name": "stdout"
        },
        {
          "output_type": "stream",
          "text": [
            "100%|██████████| 821/821 [06:03<00:00,  2.26it/s, data_loading=0.003, iteration=0.209, train_acc=73.69, train_loss_class=0.952]\n",
            "100%|██████████| 206/206 [00:34<00:00,  5.89it/s, data_loading=0.004, iteration=0.112, test_acc=78.98, test_loss_class=0.707]\n"
          ],
          "name": "stderr"
        },
        {
          "output_type": "stream",
          "text": [
            "=========== EPOCH 4 ===========\n"
          ],
          "name": "stdout"
        },
        {
          "output_type": "stream",
          "text": [
            "100%|██████████| 821/821 [06:03<00:00,  2.26it/s, data_loading=0.004, iteration=0.208, train_acc=73.79, train_loss_class=0.904]\n",
            "100%|██████████| 206/206 [00:34<00:00,  5.98it/s, data_loading=0.003, iteration=0.113, test_acc=81.41, test_loss_class=0.694]\n"
          ],
          "name": "stderr"
        },
        {
          "output_type": "stream",
          "text": [
            "=========== EPOCH 5 ===========\n"
          ],
          "name": "stdout"
        },
        {
          "output_type": "stream",
          "text": [
            "100%|██████████| 821/821 [06:02<00:00,  2.26it/s, data_loading=0.003, iteration=0.211, train_acc=78.51, train_loss_class=0.766]\n",
            "100%|██████████| 206/206 [00:34<00:00,  5.93it/s, data_loading=0.004, iteration=0.112, test_acc=81.31, test_loss_class=0.657]\n"
          ],
          "name": "stderr"
        },
        {
          "output_type": "stream",
          "text": [
            "=========== EPOCH 6 ===========\n"
          ],
          "name": "stdout"
        },
        {
          "output_type": "stream",
          "text": [
            "100%|██████████| 821/821 [06:03<00:00,  2.26it/s, data_loading=0.003, iteration=0.211, train_acc=78.61, train_loss_class=0.712]\n",
            "100%|██████████| 206/206 [00:34<00:00,  6.00it/s, data_loading=0.003, iteration=0.114, test_acc=81.02, test_loss_class=0.649]\n"
          ],
          "name": "stderr"
        },
        {
          "output_type": "stream",
          "text": [
            "=========== EPOCH 7 ===========\n"
          ],
          "name": "stdout"
        },
        {
          "output_type": "stream",
          "text": [
            "100%|██████████| 821/821 [06:02<00:00,  2.26it/s, data_loading=0.004, iteration=0.210, train_acc=82.73, train_loss_class=0.611]\n",
            "100%|██████████| 206/206 [00:34<00:00,  5.89it/s, data_loading=0.004, iteration=0.112, test_acc=84.91, test_loss_class=0.549]\n"
          ],
          "name": "stderr"
        },
        {
          "output_type": "stream",
          "text": [
            "=========== EPOCH 8 ===========\n"
          ],
          "name": "stdout"
        },
        {
          "output_type": "stream",
          "text": [
            "100%|██████████| 821/821 [06:03<00:00,  2.26it/s, data_loading=0.004, iteration=0.209, train_acc=81.72, train_loss_class=0.609]\n",
            "100%|██████████| 206/206 [00:34<00:00,  5.97it/s, data_loading=0.004, iteration=0.112, test_acc=86.00, test_loss_class=0.509]\n"
          ],
          "name": "stderr"
        },
        {
          "output_type": "stream",
          "text": [
            "=========== EPOCH 9 ===========\n"
          ],
          "name": "stdout"
        },
        {
          "output_type": "stream",
          "text": [
            "100%|██████████| 821/821 [06:03<00:00,  2.26it/s, data_loading=0.004, iteration=0.211, train_acc=83.83, train_loss_class=0.541]\n",
            "100%|██████████| 206/206 [00:34<00:00,  5.93it/s, data_loading=0.004, iteration=0.111, test_acc=85.49, test_loss_class=0.509]\n"
          ],
          "name": "stderr"
        },
        {
          "output_type": "stream",
          "text": [
            "=========== EPOCH 10 ===========\n"
          ],
          "name": "stdout"
        },
        {
          "output_type": "stream",
          "text": [
            "100%|██████████| 821/821 [06:02<00:00,  2.26it/s, data_loading=0.004, iteration=0.207, train_acc=81.72, train_loss_class=0.560]\n",
            "100%|██████████| 206/206 [00:34<00:00,  6.02it/s, data_loading=0.004, iteration=0.114, test_acc=84.87, test_loss_class=0.517]\n"
          ],
          "name": "stderr"
        },
        {
          "output_type": "stream",
          "text": [
            "=========== EPOCH 11 ===========\n"
          ],
          "name": "stdout"
        },
        {
          "output_type": "stream",
          "text": [
            "100%|██████████| 821/821 [06:02<00:00,  2.26it/s, data_loading=0.004, iteration=0.209, train_acc=86.24, train_loss_class=0.463]\n",
            "100%|██████████| 206/206 [00:34<00:00,  5.90it/s, data_loading=0.003, iteration=0.112, test_acc=86.97, test_loss_class=0.480]\n"
          ],
          "name": "stderr"
        },
        {
          "output_type": "stream",
          "text": [
            "=========== EPOCH 12 ===========\n"
          ],
          "name": "stdout"
        },
        {
          "output_type": "stream",
          "text": [
            "100%|██████████| 821/821 [06:02<00:00,  2.26it/s, data_loading=0.004, iteration=0.209, train_acc=85.54, train_loss_class=0.481]\n",
            "100%|██████████| 206/206 [00:34<00:00,  5.99it/s, data_loading=0.005, iteration=0.113, test_acc=86.89, test_loss_class=0.454]\n"
          ],
          "name": "stderr"
        },
        {
          "output_type": "stream",
          "text": [
            "=========== EPOCH 13 ===========\n"
          ],
          "name": "stdout"
        },
        {
          "output_type": "stream",
          "text": [
            "100%|██████████| 821/821 [06:02<00:00,  2.26it/s, data_loading=0.004, iteration=0.212, train_acc=85.84, train_loss_class=0.462]\n",
            "100%|██████████| 206/206 [00:34<00:00,  5.93it/s, data_loading=0.003, iteration=0.112, test_acc=86.50, test_loss_class=0.484]\n"
          ],
          "name": "stderr"
        },
        {
          "output_type": "stream",
          "text": [
            "=========== EPOCH 14 ===========\n"
          ],
          "name": "stdout"
        },
        {
          "output_type": "stream",
          "text": [
            "100%|██████████| 821/821 [06:03<00:00,  2.26it/s, data_loading=0.004, iteration=0.215, train_acc=84.83, train_loss_class=0.482]\n",
            "100%|██████████| 206/206 [00:36<00:00,  5.64it/s, data_loading=0.004, iteration=0.117, test_acc=86.32, test_loss_class=0.472]\n"
          ],
          "name": "stderr"
        },
        {
          "output_type": "stream",
          "text": [
            "=========== EPOCH 15 ===========\n"
          ],
          "name": "stdout"
        },
        {
          "output_type": "stream",
          "text": [
            "100%|██████████| 821/821 [06:06<00:00,  2.24it/s, data_loading=0.004, iteration=0.210, train_acc=85.14, train_loss_class=0.474]\n",
            "100%|██████████| 206/206 [00:36<00:00,  5.59it/s, data_loading=0.004, iteration=0.124, test_acc=88.16, test_loss_class=0.450]\n"
          ],
          "name": "stderr"
        },
        {
          "output_type": "stream",
          "text": [
            "=========== EPOCH 16 ===========\n"
          ],
          "name": "stdout"
        },
        {
          "output_type": "stream",
          "text": [
            "100%|██████████| 821/821 [06:06<00:00,  2.24it/s, data_loading=0.004, iteration=0.214, train_acc=86.44, train_loss_class=0.443]\n",
            "100%|██████████| 206/206 [00:36<00:00,  5.58it/s, data_loading=0.005, iteration=0.124, test_acc=87.84, test_loss_class=0.446]\n"
          ],
          "name": "stderr"
        },
        {
          "output_type": "stream",
          "text": [
            "=========== EPOCH 17 ===========\n"
          ],
          "name": "stdout"
        },
        {
          "output_type": "stream",
          "text": [
            "100%|██████████| 821/821 [06:05<00:00,  2.24it/s, data_loading=0.004, iteration=0.217, train_acc=89.05, train_loss_class=0.357]\n",
            "100%|██████████| 206/206 [00:36<00:00,  5.62it/s, data_loading=0.004, iteration=0.115, test_acc=87.86, test_loss_class=0.413]\n"
          ],
          "name": "stderr"
        },
        {
          "output_type": "stream",
          "text": [
            "=========== EPOCH 18 ===========\n"
          ],
          "name": "stdout"
        },
        {
          "output_type": "stream",
          "text": [
            "100%|██████████| 821/821 [06:05<00:00,  2.25it/s, data_loading=0.004, iteration=0.213, train_acc=88.15, train_loss_class=0.387]\n",
            "100%|██████████| 206/206 [00:36<00:00,  5.66it/s, data_loading=0.004, iteration=0.123, test_acc=86.65, test_loss_class=0.480]\n"
          ],
          "name": "stderr"
        },
        {
          "output_type": "stream",
          "text": [
            "=========== EPOCH 19 ===========\n"
          ],
          "name": "stdout"
        },
        {
          "output_type": "stream",
          "text": [
            "100%|██████████| 821/821 [06:05<00:00,  2.24it/s, data_loading=0.003, iteration=0.209, train_acc=86.54, train_loss_class=0.509]\n",
            "100%|██████████| 206/206 [00:36<00:00,  5.60it/s, data_loading=0.004, iteration=0.121, test_acc=87.78, test_loss_class=0.463]\n"
          ],
          "name": "stderr"
        },
        {
          "output_type": "stream",
          "text": [
            "=========== EPOCH 20 ===========\n"
          ],
          "name": "stdout"
        },
        {
          "output_type": "stream",
          "text": [
            "100%|██████████| 821/821 [06:05<00:00,  2.24it/s, data_loading=0.003, iteration=0.216, train_acc=87.14, train_loss_class=0.423]\n",
            "100%|██████████| 206/206 [00:36<00:00,  5.65it/s, data_loading=0.003, iteration=0.118, test_acc=88.83, test_loss_class=0.389]\n"
          ],
          "name": "stderr"
        },
        {
          "output_type": "stream",
          "text": [
            "=========== EPOCH 21 ===========\n"
          ],
          "name": "stdout"
        },
        {
          "output_type": "stream",
          "text": [
            " 93%|█████████▎| 761/821 [05:39<00:28,  2.14it/s, data_loading=0.003, iteration=0.516, train_acc=89.28, train_loss_class=0.334]"
          ],
          "name": "stderr"
        }
      ]
    },
    {
      "cell_type": "code",
      "metadata": {
        "id": "Bak51OOoBSi3",
        "colab_type": "code",
        "colab": {}
      },
      "source": [
        "%load_ext tensorboard\n",
        "%tensorboard --logdir logs"
      ],
      "execution_count": 0,
      "outputs": []
    },
    {
      "cell_type": "code",
      "metadata": {
        "id": "5k4vnT86PYAM",
        "colab_type": "code",
        "colab": {}
      },
      "source": [
        "# TODO Track in tensorboard\n",
        "# Retrain"
      ],
      "execution_count": 0,
      "outputs": []
    }
  ]
}